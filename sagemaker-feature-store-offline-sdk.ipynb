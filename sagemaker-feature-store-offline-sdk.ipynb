{
 "cells": [
  {
   "cell_type": "markdown",
   "metadata": {
    "tags": []
   },
   "source": [
    "# Working with Amazon SageMaker Offline Feature Store \n",
    "\n",
    "## SageMaker Feature Store Offline SDK enables you to easily build ML-ready datasets from Feature Groups\n",
    "\n",
    "**How to use Amazon SageMaker Feature Store Offline SDK to build ML-ready datasets by loading Pandas dataframes and joining one or more Feature Groups.**\n",
    "\n",
    "**Note:** Please set kernel to `Python 3 (Data Science)` and select instance to `ml.m5.large`, one of the fast-launch types."
   ]
  },
  {
   "cell_type": "markdown",
   "metadata": {
    "tags": []
   },
   "source": [
    "---\n",
    "\n",
    "# Contents\n",
    "\n",
    "1. [Overview](#Overview)\n",
    "1. [Describe Data Sets](#Datasets)\n",
    "1. [Generate Timestamps](#Generate-Timestamps)\n",
    "1. [Enhance Dataframe with Time-Series Data](#Enhance-Dataframe-with-Time-Series-Data)\n",
    "1. [Create Dataset from single Feature Group](#Create-Dataset-from-single-Feature-Group)\n",
    "1. [Demonstrate use of Point-in-Time Join](#Demonstrate-use-of-Point-in-Time-Join)\n",
    "1. [Create Dataset from Joining two Feature Groups](#Create-Dataset-from-Joining-two-Feature-Groups)\n",
    "1. [Create Dataset using Event Time window](#Create-Dataset-using-Event-Time-window)\n",
    "1. [Create Dataset using as-of Timestamp](#Create-Dataset-using-as-of-Timestamp)\n",
    "1. [Clean Up](#Clean-Up)"
   ]
  },
  {
   "cell_type": "markdown",
   "metadata": {
    "tags": []
   },
   "source": [
    "--- \n",
    "\n",
    "### LICENSE\n",
    "\n",
    "// Copyright Amazon.com, Inc. or its affiliates. All Rights Reserved. </br>\n",
    "// SPDX-License-Identifier: MIT-0 </br>\n"
   ]
  },
  {
   "cell_type": "markdown",
   "metadata": {
    "tags": []
   },
   "source": [
    "---\n",
    "\n",
    "## Overview\n",
    "\n",
    "SageMaker Feature Store is a purpose-built service to store and retrieve feature data for use by Machine Learning models. The Feature Store provides an Online store capable of low latency high throughput reads and writes, plus an Offline store that provides bulk access to all historical record data, and an automated synchronization of data between the Online and Offline store. \n",
    "\n",
    "The Feature Store Offline SDK provides the ability to quickly and easily build ML-ready datasets for use by ML model training or pre-processing. The SDK makes it easy to build datasets from SQL join, point-in-time accurate join, and event range time frames, all without the need to write any SQL code. This functionality is accessed via the DatasetBuilder class which is the primary entry point for the SDK functionality. This notebook will instruct the user on how to operate the SDK to retrieve feature data in a number of scenarios, including:\n",
    "\n",
    "\n",
    "1. Perform basic feature-level join between one or more Feature Groups and Pandas dataframes. The Offline Store SDK allows you to create datasets using table join logic without the need to write any SQL code. This capability can speed development and time-to-market for your ML use cases.\n",
    "\n",
    "2. Retrieval of point-in-time accurate feature data based on an entity or event-level dataframe. This key capability allows you to retrieve data using “row-level time travel” according to the event times provided to the Dataset Builder (builder).\n",
    "\n",
    "3. Retrieval of feature data with event times within a specified time frame. If you want to retrieve only a subset of your data containing records whose event_time falls within a certain timeframe, you can simply provide the start and end times to the builder.\n",
    "\n",
    "4. Retrieval of feature data with as-of-timestamp (referred to as “time travel”). This capability is useful when you want to access data that represents the state of the datastore at some time in the past. Use cases involve rollback, datastore audits, and avoidance of feature leakage for ML training jobs.\n",
    "\n",
    "\n",
    "In the past, these sorts of data retrieval scenarios required the user to write complex SQL query syntax which would then be submitted to the Amazon Athena service. Athena provides a flexible SQL query engine on top of S3 object storage. While this is still possible, the Offline SDK makes it much easier to build these datasets that incorporate one or more Pandas Dataframes and one or more existing Feature Groups.  For users that prefer to accomplish this type of feature engineering using Apache Spark, SageMaker Feature Store also provides a Spark connector.\n",
    "\n",
    "To demonstrate these capabilities, this notebook sample will create several Feature Groups, and several Pandas Dataframes which are related by a PrimaryKey-to-ForeignKey relationship. We will ingest sample data from a public dataset into the Feature Groups prior to calling methods of the Offline SDK. Then, we will illustrate how to retrieve the ingested features from the multiple Feature Groups and combine them to build feature sets that can be used to train an ML model. \n",
    "\n",
    "This notebook will walk through the following steps:\n",
    "\n",
    "* Create base Dataframe from public Leads dataset using simulated timestamp data, and replicate a handful of records with simulated time-series data (used for point-in-time join)\n",
    "* Create Dataset Builder object with point-in-time join (row-level time travel), and show records that meet that criteria\n",
    "* Compare Athena SQL query results to Offline SDK results, verifying the point-in-time accuracy\n",
    "* Create target Dataframe and ingest public Web Marketing dataset into target Feature Group \n",
    "* Create Dataset Builder object by joining the base and target Feature Groups\n",
    "* Retrieve combined feature data using event time range window, and show records that meet that criteria\n",
    "* Retrieve feature data using as-of timestamp which references the `write_time` datastore attribute\n",
    "* Examine CSV data files, written to S3 by the Offline SDK, which are useful for further processing or feeding directly to training or batch scoring jobs\n",
    "\n",
    "---"
   ]
  },
  {
   "cell_type": "markdown",
   "metadata": {
    "tags": []
   },
   "source": [
    "## Datasets"
   ]
  },
  {
   "cell_type": "markdown",
   "metadata": {},
   "source": [
    "### Overview of Leads and Marketing Datasets\n",
    "\n",
    "The use case concerns different marketing activities/metrics captured for the lead by the marketing campaigns. There are two datasets, LeadData and WebMarketingData.\n",
    "\n",
    "LeadData CSV file provides data about the lead and each lead has a unique Lead_ProspectID and Lead_EventTime associated with it. It provides information including job role (JobRole), lead profile (LeadProfile) , whether they used marketing promotion or not (UsedPromo), region (Region), unique Id (Lead_ProspectID) and whether they converted into a sales or not (Converted) etc. This “converted” field is our target feature for model prediction.\n",
    "\n",
    "WebMarketingData CSV file provides data on what all different marketing activities / matrices were performed by the lead under different campaigns run by marketing team. Each activity has a unique Web_ProspectID and Web_EventTime associated with it. It provides data including the last campaign activity performed by the lead (LastCampaignActivity), number of page views per visit (PageViewsPerVisit), total time spend on website (TotalTimeOnWebsite), whether the lead attended the marketing event or not (AttendMarketingEvent), whether the lead viewed the advertisement or not (ViewedAdvertisement) etc.\n",
    "\n",
    "These datasets can also be downloaded from AWS hosted buckets here:\n",
    "\n",
    "Leads Data:\n",
    "https://static.us-east-1.prod.workshops.aws/public/1874ad19-b8dc-4295-923f-a738875ed5c3/static/lab8/LeadData.csv\n",
    "\n",
    "WebMarketing Data: \n",
    "https://static.us-east-1.prod.workshops.aws/public/1874ad19-b8dc-4295-923f-a738875ed5c3/static/lab8/WebMarketingData.csv\n",
    "\n",
    "Note: You do *not* need to download these data files to run this notebook since the CSV files are already stored in the ./data sub-directory."
   ]
  },
  {
   "cell_type": "markdown",
   "metadata": {},
   "source": [
    "### Create Feature Groups using SageMaker SDK\n",
    "\n",
    "Create Feature Groups from Pandas dataframes using SageMaker Feature Store Offline SDK"
   ]
  },
  {
   "cell_type": "code",
   "execution_count": 2,
   "metadata": {
    "tags": []
   },
   "outputs": [],
   "source": [
    "# Initial imports\n",
    "\n",
    "import subprocess\n",
    "import importlib\n",
    "import random\n",
    "import string\n",
    "import datetime\n",
    "import time\n",
    "import sys\n",
    "import os\n",
    "import re\n",
    "import sagemaker\n"
   ]
  },
  {
   "cell_type": "markdown",
   "metadata": {},
   "source": [
    "#### Enforce a minimum required version of SageMaker SDK library"
   ]
  },
  {
   "cell_type": "code",
   "execution_count": 3,
   "metadata": {
    "tags": []
   },
   "outputs": [],
   "source": [
    "sm_version = sagemaker.__version__\n",
    "\n",
    "major, minor, patch = sm_version.split('.')\n",
    "\n",
    "if int(major) < 2 or int(minor) < 132:\n",
    "    print('Upgrading sagemaker version from: ' + sm_version)\n",
    "    subprocess.check_call([sys.executable, '-m', 'pip', 'install', 'sagemaker==2.132.0'])\n",
    "    importlib.reload(sagemaker)\n"
   ]
  },
  {
   "cell_type": "code",
   "execution_count": 4,
   "metadata": {
    "tags": []
   },
   "outputs": [
    {
     "name": "stdout",
     "output_type": "stream",
     "text": [
      "SageMaker version: 2.140.1\n"
     ]
    }
   ],
   "source": [
    "import sagemaker\n",
    "print('SageMaker version: ' + sagemaker.__version__)"
   ]
  },
  {
   "cell_type": "code",
   "execution_count": 5,
   "metadata": {
    "tags": []
   },
   "outputs": [],
   "source": [
    "from time import gmtime, strftime, sleep\n",
    "from datetime import date, datetime, timezone\n",
    "from random import randint\n",
    "\n",
    "from sagemaker.feature_store.feature_store import FeatureStore\n",
    "from sagemaker.feature_store.feature_group import FeatureGroup\n",
    "from sagemaker.session import Session\n",
    "from sagemaker import get_execution_role\n",
    "\n",
    "import sagemaker\n",
    "import boto3\n",
    "import logging\n",
    "import pandas as pd\n",
    "import numpy as np\n",
    "import re\n"
   ]
  },
  {
   "cell_type": "code",
   "execution_count": 6,
   "metadata": {
    "tags": []
   },
   "outputs": [
    {
     "name": "stdout",
     "output_type": "stream",
     "text": [
      "Created S3 Client for sample_helper.\n"
     ]
    }
   ],
   "source": [
    "# Import local helper code with convenience functions \n",
    "\n",
    "sys.path.append('./code')\n",
    "import sample_helper"
   ]
  },
  {
   "cell_type": "code",
   "execution_count": 7,
   "metadata": {
    "tags": []
   },
   "outputs": [],
   "source": [
    "# Configure logging\n",
    "\n",
    "logger = logging.getLogger('__name__')\n",
    "logger.setLevel(logging.DEBUG)\n",
    "logger.addHandler(logging.StreamHandler())"
   ]
  },
  {
   "cell_type": "code",
   "execution_count": 8,
   "metadata": {
    "tags": []
   },
   "outputs": [
    {
     "name": "stdout",
     "output_type": "stream",
     "text": [
      "us-east-1\n",
      "arn:aws:iam::572539092864:role/service-role/AmazonSageMaker-ExecutionRole-20200407T174741\n"
     ]
    }
   ],
   "source": [
    "# Configure Session objects \n",
    "\n",
    "region = boto3.Session().region_name\n",
    "print(region)\n",
    "\n",
    "boto_session = boto3.Session(region_name=region)\n",
    "sagemaker_session = sagemaker.Session()\n",
    "\n",
    "role = sagemaker.get_execution_role()\n",
    "print(role) \n",
    "\n",
    "# Allocate SageMaker, Feature Store, and S3 clients\n",
    "\n",
    "s3_client = boto3.client('s3', region_name=region)\n",
    "sagemaker_client = boto_session.client(service_name=\"sagemaker\", region_name=region)\n",
    "featurestore_runtime = boto_session.client(service_name=\"sagemaker-featurestore-runtime\",region_name=region)"
   ]
  },
  {
   "cell_type": "markdown",
   "metadata": {},
   "source": [
    "### Create required Feature Store Session object "
   ]
  },
  {
   "cell_type": "code",
   "execution_count": 9,
   "metadata": {
    "tags": []
   },
   "outputs": [],
   "source": [
    "# Create FeatureStore session object\n",
    "\n",
    "feature_store_session = sagemaker.Session(\n",
    "    boto_session=boto_session,\n",
    "    sagemaker_client=sagemaker_client,\n",
    "    sagemaker_featurestore_runtime_client=featurestore_runtime,\n",
    ")\n",
    "\n",
    "feature_store = FeatureStore(sagemaker_session=feature_store_session)"
   ]
  },
  {
   "cell_type": "code",
   "execution_count": 10,
   "metadata": {
    "tags": []
   },
   "outputs": [
    {
     "name": "stdout",
     "output_type": "stream",
     "text": [
      "Using S3 default bucket: sagemaker-us-east-1-572539092864\n",
      "S3 prefix for offline store data: offline-store-sdk-artifacts-bgnhxvyzds\n"
     ]
    }
   ],
   "source": [
    "# Reference to default S3 bucket\n",
    "s3_bucket_name = sagemaker_session.default_bucket()\n",
    "print(f'Using S3 default bucket: {s3_bucket_name}')\n",
    "\n",
    "# Note: Artifacts created by this notebook will be located under this S3 prefix\n",
    "s3_prefix = \"offline-store-sdk-artifacts-\" + \"\".join(random.choice(string.ascii_lowercase) for i in range(10))\n",
    "print(f'S3 prefix for offline store data: {s3_prefix}')"
   ]
  },
  {
   "cell_type": "markdown",
   "metadata": {},
   "source": [
    "## Generate Timestamps"
   ]
  },
  {
   "cell_type": "markdown",
   "metadata": {},
   "source": [
    "### Now we will generate random timestamps and add them to a Dataframe\n",
    "\n",
    "Feature Groups require a field for EventTime, which represents the actual date/time at which the event occurred. This field must be either type int (unix epoch time) or a string that corresponds to ISO 8601 standard.\n",
    "\n",
    "Note: The timestamps are generated purposely to span within a single calendar year (Jan 2022 ~ Dec 2022).\n"
   ]
  },
  {
   "cell_type": "code",
   "execution_count": 11,
   "metadata": {
    "tags": []
   },
   "outputs": [
    {
     "name": "stdout",
     "output_type": "stream",
     "text": [
      "> Generating 10000 timestamps ...\n",
      "Starting time: 2022-01-01T00:00:00\n",
      "Ending time: 2023-01-01T00:00:00\n",
      "(10000, 1)\n",
      "Index(['Timestamp'], dtype='object')\n"
     ]
    },
    {
     "data": {
      "text/html": [
       "<div>\n",
       "<style scoped>\n",
       "    .dataframe tbody tr th:only-of-type {\n",
       "        vertical-align: middle;\n",
       "    }\n",
       "\n",
       "    .dataframe tbody tr th {\n",
       "        vertical-align: top;\n",
       "    }\n",
       "\n",
       "    .dataframe thead th {\n",
       "        text-align: right;\n",
       "    }\n",
       "</style>\n",
       "<table border=\"1\" class=\"dataframe\">\n",
       "  <thead>\n",
       "    <tr style=\"text-align: right;\">\n",
       "      <th></th>\n",
       "      <th>Timestamp</th>\n",
       "    </tr>\n",
       "  </thead>\n",
       "  <tbody>\n",
       "    <tr>\n",
       "      <th>0</th>\n",
       "      <td>2022-05-10T08:46:14Z</td>\n",
       "    </tr>\n",
       "    <tr>\n",
       "      <th>1</th>\n",
       "      <td>2022-02-15T21:47:11Z</td>\n",
       "    </tr>\n",
       "    <tr>\n",
       "      <th>2</th>\n",
       "      <td>2022-01-28T06:28:42Z</td>\n",
       "    </tr>\n",
       "    <tr>\n",
       "      <th>3</th>\n",
       "      <td>2022-04-24T11:44:12Z</td>\n",
       "    </tr>\n",
       "    <tr>\n",
       "      <th>4</th>\n",
       "      <td>2022-08-06T07:49:31Z</td>\n",
       "    </tr>\n",
       "  </tbody>\n",
       "</table>\n",
       "</div>"
      ],
      "text/plain": [
       "              Timestamp\n",
       "0  2022-05-10T08:46:14Z\n",
       "1  2022-02-15T21:47:11Z\n",
       "2  2022-01-28T06:28:42Z\n",
       "3  2022-04-24T11:44:12Z\n",
       "4  2022-08-06T07:49:31Z"
      ]
     },
     "execution_count": 11,
     "metadata": {},
     "output_type": "execute_result"
    }
   ],
   "source": [
    "# Note: initial unix time 1640995200 is 01-01-2022\n",
    "initial_unix_timestamp = 1640995200\n",
    "\n",
    "# Note: delta of 31536000 is one year of unix time\n",
    "one_year_delta = 31536000\n",
    "\n",
    "# Function gen_timestamps generates randomized datetimes using start and delta arguments\n",
    "df_timestamps = sample_helper.gen_timestamps(initial_unix_timestamp, one_year_delta, num=10000)\n",
    "\n",
    "print(df_timestamps.shape)\n",
    "print(df_timestamps.columns)\n",
    "\n",
    "df_timestamps.head()"
   ]
  },
  {
   "cell_type": "markdown",
   "metadata": {},
   "source": [
    "### Read Lead data from CSV file and load into Pandas Dataframe"
   ]
  },
  {
   "cell_type": "code",
   "execution_count": 12,
   "metadata": {
    "tags": []
   },
   "outputs": [],
   "source": [
    "# Create base Dataframe by using Pandas to read CSV file \n",
    "base_data_df = pd.read_csv(\"./data/LeadData.csv\")"
   ]
  },
  {
   "cell_type": "code",
   "execution_count": 13,
   "metadata": {
    "tags": []
   },
   "outputs": [
    {
     "name": "stdout",
     "output_type": "stream",
     "text": [
      "Column names: Index(['LeadSource', 'JobRole', 'ContactNotes', 'LeadProfile', 'UsedPromo',\n",
      "       'Region', 'Converted', 'Lead_ProspectID', 'Lead_EventTime'],\n",
      "      dtype='object')\n"
     ]
    }
   ],
   "source": [
    "# Drop column to avoid ValueError: Failed to infer Feature type based on dtype bool for column DoNotReachOut.\n",
    "base_data_df = base_data_df.drop('DoNotReachOut', axis=1)  \n",
    "\n",
    "# Set 'Lead_EventTime' column using the generated timestamps\n",
    "base_data_df['Lead_EventTime'] = df_timestamps['Timestamp'].astype('string')\n",
    "\n",
    "# Verify column names for Leads dataset, with Primary Key 'Lead_ProspectID'\n",
    "print(f'Column names: {base_data_df.columns}')"
   ]
  },
  {
   "cell_type": "code",
   "execution_count": 14,
   "metadata": {
    "tags": []
   },
   "outputs": [
    {
     "name": "stdout",
     "output_type": "stream",
     "text": [
      "LeadSource         object\n",
      "JobRole            object\n",
      "ContactNotes       object\n",
      "LeadProfile        object\n",
      "UsedPromo          object\n",
      "Region             object\n",
      "Converted           int64\n",
      "Lead_ProspectID    object\n",
      "Lead_EventTime     string\n",
      "dtype: object\n"
     ]
    },
    {
     "data": {
      "text/html": [
       "<div>\n",
       "<style scoped>\n",
       "    .dataframe tbody tr th:only-of-type {\n",
       "        vertical-align: middle;\n",
       "    }\n",
       "\n",
       "    .dataframe tbody tr th {\n",
       "        vertical-align: top;\n",
       "    }\n",
       "\n",
       "    .dataframe thead th {\n",
       "        text-align: right;\n",
       "    }\n",
       "</style>\n",
       "<table border=\"1\" class=\"dataframe\">\n",
       "  <thead>\n",
       "    <tr style=\"text-align: right;\">\n",
       "      <th></th>\n",
       "      <th>LeadSource</th>\n",
       "      <th>JobRole</th>\n",
       "      <th>ContactNotes</th>\n",
       "      <th>LeadProfile</th>\n",
       "      <th>UsedPromo</th>\n",
       "      <th>Region</th>\n",
       "      <th>Converted</th>\n",
       "      <th>Lead_ProspectID</th>\n",
       "      <th>Lead_EventTime</th>\n",
       "    </tr>\n",
       "  </thead>\n",
       "  <tbody>\n",
       "    <tr>\n",
       "      <th>0</th>\n",
       "      <td>Digital Ad</td>\n",
       "      <td>Engineering</td>\n",
       "      <td>ContentPresentation</td>\n",
       "      <td>Large</td>\n",
       "      <td>NoPromo</td>\n",
       "      <td>NAMER</td>\n",
       "      <td>0</td>\n",
       "      <td>5f974944-eee6-414f-8bd3-7c22697404ca</td>\n",
       "      <td>2022-05-10T08:46:14Z</td>\n",
       "    </tr>\n",
       "    <tr>\n",
       "      <th>1</th>\n",
       "      <td>Digital Ad</td>\n",
       "      <td>HR</td>\n",
       "      <td>NeedsCaseStudy</td>\n",
       "      <td>Large</td>\n",
       "      <td>NoPromo</td>\n",
       "      <td>LATAM</td>\n",
       "      <td>0</td>\n",
       "      <td>5e84c78f-6438-4d91-aa96-b492f7e91029</td>\n",
       "      <td>2022-02-15T21:47:11Z</td>\n",
       "    </tr>\n",
       "    <tr>\n",
       "      <th>2</th>\n",
       "      <td>Event</td>\n",
       "      <td>Sales</td>\n",
       "      <td>FeatureRequest</td>\n",
       "      <td>Medium</td>\n",
       "      <td>NoPromo</td>\n",
       "      <td>EMEA</td>\n",
       "      <td>0</td>\n",
       "      <td>38fab8b5-fdbf-4171-b7e2-2a99355a425e</td>\n",
       "      <td>2022-01-28T06:28:42Z</td>\n",
       "    </tr>\n",
       "    <tr>\n",
       "      <th>3</th>\n",
       "      <td>Organic</td>\n",
       "      <td>Management</td>\n",
       "      <td>ContentPresentation</td>\n",
       "      <td>Large</td>\n",
       "      <td>NoPromo</td>\n",
       "      <td>LATAM</td>\n",
       "      <td>0</td>\n",
       "      <td>cb9a6f52-a6b5-4be7-8743-9032a0d73884</td>\n",
       "      <td>2022-04-24T11:44:12Z</td>\n",
       "    </tr>\n",
       "    <tr>\n",
       "      <th>4</th>\n",
       "      <td>Referral</td>\n",
       "      <td>Marketing</td>\n",
       "      <td>ContentPresentation</td>\n",
       "      <td>Large</td>\n",
       "      <td>UsedPromo</td>\n",
       "      <td>EMEA</td>\n",
       "      <td>1</td>\n",
       "      <td>43afcad1-5292-4bd4-9df8-1bfa688e301e</td>\n",
       "      <td>2022-08-06T07:49:31Z</td>\n",
       "    </tr>\n",
       "  </tbody>\n",
       "</table>\n",
       "</div>"
      ],
      "text/plain": [
       "   LeadSource      JobRole         ContactNotes LeadProfile  UsedPromo Region  \\\n",
       "0  Digital Ad  Engineering  ContentPresentation       Large    NoPromo  NAMER   \n",
       "1  Digital Ad           HR       NeedsCaseStudy       Large    NoPromo  LATAM   \n",
       "2       Event        Sales       FeatureRequest      Medium    NoPromo   EMEA   \n",
       "3     Organic   Management  ContentPresentation       Large    NoPromo  LATAM   \n",
       "4    Referral    Marketing  ContentPresentation       Large  UsedPromo   EMEA   \n",
       "\n",
       "   Converted                       Lead_ProspectID        Lead_EventTime  \n",
       "0          0  5f974944-eee6-414f-8bd3-7c22697404ca  2022-05-10T08:46:14Z  \n",
       "1          0  5e84c78f-6438-4d91-aa96-b492f7e91029  2022-02-15T21:47:11Z  \n",
       "2          0  38fab8b5-fdbf-4171-b7e2-2a99355a425e  2022-01-28T06:28:42Z  \n",
       "3          0  cb9a6f52-a6b5-4be7-8743-9032a0d73884  2022-04-24T11:44:12Z  \n",
       "4          1  43afcad1-5292-4bd4-9df8-1bfa688e301e  2022-08-06T07:49:31Z  "
      ]
     },
     "execution_count": 14,
     "metadata": {},
     "output_type": "execute_result"
    }
   ],
   "source": [
    "print(base_data_df.dtypes)\n",
    "base_data_df.head()"
   ]
  },
  {
   "cell_type": "markdown",
   "metadata": {
    "tags": []
   },
   "source": [
    "### Now generate NEWER timestamps for creating time-series data\n",
    "\n",
    "Note: Point-in-Time-Accurate-Join method is useful to operate over time-series data. Therefore, we clone an existing record from the dataset, create new (fake) values for `LeadSource` to easily identify these new records, and then append these additional records to the original dataframe. We also generate newer timestamps (from Jan 2023) for the new sample records."
   ]
  },
  {
   "cell_type": "code",
   "execution_count": 15,
   "metadata": {
    "tags": []
   },
   "outputs": [
    {
     "name": "stdout",
     "output_type": "stream",
     "text": [
      "> Generating 100 timestamps ...\n",
      "Starting time: 2023-01-01T00:00:00\n",
      "Ending time: 2023-01-31T00:00:00\n"
     ]
    },
    {
     "data": {
      "text/html": [
       "<div>\n",
       "<style scoped>\n",
       "    .dataframe tbody tr th:only-of-type {\n",
       "        vertical-align: middle;\n",
       "    }\n",
       "\n",
       "    .dataframe tbody tr th {\n",
       "        vertical-align: top;\n",
       "    }\n",
       "\n",
       "    .dataframe thead th {\n",
       "        text-align: right;\n",
       "    }\n",
       "</style>\n",
       "<table border=\"1\" class=\"dataframe\">\n",
       "  <thead>\n",
       "    <tr style=\"text-align: right;\">\n",
       "      <th></th>\n",
       "      <th>Timestamp</th>\n",
       "    </tr>\n",
       "  </thead>\n",
       "  <tbody>\n",
       "    <tr>\n",
       "      <th>0</th>\n",
       "      <td>2023-01-18T17:07:15Z</td>\n",
       "    </tr>\n",
       "    <tr>\n",
       "      <th>1</th>\n",
       "      <td>2023-01-30T16:17:36Z</td>\n",
       "    </tr>\n",
       "    <tr>\n",
       "      <th>2</th>\n",
       "      <td>2023-01-13T15:26:14Z</td>\n",
       "    </tr>\n",
       "    <tr>\n",
       "      <th>3</th>\n",
       "      <td>2023-01-07T18:46:10Z</td>\n",
       "    </tr>\n",
       "    <tr>\n",
       "      <th>4</th>\n",
       "      <td>2023-01-21T01:43:32Z</td>\n",
       "    </tr>\n",
       "  </tbody>\n",
       "</table>\n",
       "</div>"
      ],
      "text/plain": [
       "              Timestamp\n",
       "0  2023-01-18T17:07:15Z\n",
       "1  2023-01-30T16:17:36Z\n",
       "2  2023-01-13T15:26:14Z\n",
       "3  2023-01-07T18:46:10Z\n",
       "4  2023-01-21T01:43:32Z"
      ]
     },
     "execution_count": 15,
     "metadata": {},
     "output_type": "execute_result"
    }
   ],
   "source": [
    "# Note: unix time 1672531200 is 01-01-2023\n",
    "jan2023_unix_timestamp = 1672531200\n",
    "\n",
    "# Note: delta of 2592000 is one MONTH of unix time\n",
    "one_month_delta = 2592000\n",
    "\n",
    "new_timestamps_df = sample_helper.gen_timestamps(jan2023_unix_timestamp, one_month_delta, num=100)\n",
    "\n",
    "new_timestamps_df.head()"
   ]
  },
  {
   "cell_type": "markdown",
   "metadata": {
    "tags": []
   },
   "source": [
    "## Enhance Dataframe with Time-Series Data\n",
    "\n",
    "We select existing records and create copies with different timestamps for time-series data"
   ]
  },
  {
   "cell_type": "code",
   "execution_count": 16,
   "metadata": {
    "tags": []
   },
   "outputs": [
    {
     "name": "stdout",
     "output_type": "stream",
     "text": [
      "Sample record ID[0]: 5f974944-eee6-414f-8bd3-7c22697404ca\n",
      "Sample record ID[1]: 5e84c78f-6438-4d91-aa96-b492f7e91029\n"
     ]
    }
   ],
   "source": [
    "# Locate existing records to replicate \n",
    "\n",
    "sample_df1 = base_data_df.iloc[[0]]\n",
    "sample_rec1 = sample_df1.iloc[0]\n",
    "record_id1 = sample_rec1['Lead_ProspectID']\n",
    "print(f'Sample record ID[0]: {record_id1}')\n",
    "\n",
    "sample_df2 = base_data_df.iloc[[1]]\n",
    "sample_rec2 = sample_df2.iloc[0]\n",
    "record_id2 = sample_rec2['Lead_ProspectID']\n",
    "print(f'Sample record ID[1]: {record_id2}')\n"
   ]
  },
  {
   "cell_type": "markdown",
   "metadata": {},
   "source": [
    "#### Generate new dataframes for time-series data using the new timestamps\n",
    "\n",
    "Note: The code below calls methods in supplemental Python file under the ./code directory."
   ]
  },
  {
   "cell_type": "code",
   "execution_count": 17,
   "metadata": {
    "tags": []
   },
   "outputs": [
    {
     "name": "stdout",
     "output_type": "stream",
     "text": [
      "> Generating 10 new records for time-series data ...\n",
      "> New records using record_id: 5f974944-eee6-414f-8bd3-7c22697404ca\n",
      "> Record:  LeadSource: NewLeadSource_0 Lead_EventTime: 2023-01-26T23:22:59Z\n",
      "> Record:  LeadSource: NewLeadSource_1 Lead_EventTime: 2023-01-17T23:29:44Z\n",
      "> Record:  LeadSource: NewLeadSource_2 Lead_EventTime: 2023-01-20T02:15:15Z\n",
      "> Record:  LeadSource: NewLeadSource_3 Lead_EventTime: 2023-01-10T19:31:53Z\n",
      "> Record:  LeadSource: NewLeadSource_4 Lead_EventTime: 2023-01-29T19:35:49Z\n",
      "> Record:  LeadSource: NewLeadSource_5 Lead_EventTime: 2023-01-22T15:49:42Z\n",
      "> Record:  LeadSource: NewLeadSource_6 Lead_EventTime: 2023-01-29T08:56:51Z\n",
      "> Record:  LeadSource: NewLeadSource_7 Lead_EventTime: 2023-01-12T04:28:40Z\n",
      "> Record:  LeadSource: NewLeadSource_8 Lead_EventTime: 2023-01-26T20:32:51Z\n",
      "> Record:  LeadSource: NewLeadSource_9 Lead_EventTime: 2023-01-13T15:26:14Z\n",
      "> Generating 10 new records for time-series data ...\n",
      "> New records using record_id: 5e84c78f-6438-4d91-aa96-b492f7e91029\n",
      "> Record:  LeadSource: NewLeadSource_0 Lead_EventTime: 2023-01-09T07:52:17Z\n",
      "> Record:  LeadSource: NewLeadSource_1 Lead_EventTime: 2023-01-06T13:56:12Z\n",
      "> Record:  LeadSource: NewLeadSource_2 Lead_EventTime: 2023-01-28T21:09:02Z\n",
      "> Record:  LeadSource: NewLeadSource_3 Lead_EventTime: 2023-01-26T20:32:51Z\n",
      "> Record:  LeadSource: NewLeadSource_4 Lead_EventTime: 2023-01-09T15:11:59Z\n",
      "> Record:  LeadSource: NewLeadSource_5 Lead_EventTime: 2023-01-26T23:22:59Z\n",
      "> Record:  LeadSource: NewLeadSource_6 Lead_EventTime: 2023-01-15T16:14:27Z\n",
      "> Record:  LeadSource: NewLeadSource_7 Lead_EventTime: 2023-01-28T15:44:28Z\n",
      "> Record:  LeadSource: NewLeadSource_8 Lead_EventTime: 2023-01-17T23:29:44Z\n",
      "> Record:  LeadSource: NewLeadSource_9 Lead_EventTime: 2023-01-26T06:58:53Z\n",
      "(10, 9)\n",
      "(10, 9)\n"
     ]
    }
   ],
   "source": [
    "# Generate new records for time-series data\n",
    "\n",
    "new_records_df1 = sample_helper.gen_new_records(sample_df1, new_timestamps_df, num=10)\n",
    "new_records_df2 = sample_helper.gen_new_records(sample_df2, new_timestamps_df, num=10)\n",
    "\n",
    "print(new_records_df1.shape)\n",
    "print(new_records_df2.shape)"
   ]
  },
  {
   "cell_type": "code",
   "execution_count": 18,
   "metadata": {
    "tags": []
   },
   "outputs": [
    {
     "data": {
      "text/html": [
       "<div>\n",
       "<style scoped>\n",
       "    .dataframe tbody tr th:only-of-type {\n",
       "        vertical-align: middle;\n",
       "    }\n",
       "\n",
       "    .dataframe tbody tr th {\n",
       "        vertical-align: top;\n",
       "    }\n",
       "\n",
       "    .dataframe thead th {\n",
       "        text-align: right;\n",
       "    }\n",
       "</style>\n",
       "<table border=\"1\" class=\"dataframe\">\n",
       "  <thead>\n",
       "    <tr style=\"text-align: right;\">\n",
       "      <th></th>\n",
       "      <th>LeadSource</th>\n",
       "      <th>JobRole</th>\n",
       "      <th>ContactNotes</th>\n",
       "      <th>LeadProfile</th>\n",
       "      <th>UsedPromo</th>\n",
       "      <th>Region</th>\n",
       "      <th>Converted</th>\n",
       "      <th>Lead_ProspectID</th>\n",
       "      <th>Lead_EventTime</th>\n",
       "    </tr>\n",
       "  </thead>\n",
       "  <tbody>\n",
       "    <tr>\n",
       "      <th>0</th>\n",
       "      <td>NewLeadSource_0</td>\n",
       "      <td>Engineering</td>\n",
       "      <td>ContentPresentation</td>\n",
       "      <td>Large</td>\n",
       "      <td>NoPromo</td>\n",
       "      <td>NAMER</td>\n",
       "      <td>0</td>\n",
       "      <td>5f974944-eee6-414f-8bd3-7c22697404ca</td>\n",
       "      <td>2023-01-26T23:22:59Z</td>\n",
       "    </tr>\n",
       "    <tr>\n",
       "      <th>1</th>\n",
       "      <td>NewLeadSource_1</td>\n",
       "      <td>Engineering</td>\n",
       "      <td>ContentPresentation</td>\n",
       "      <td>Large</td>\n",
       "      <td>NoPromo</td>\n",
       "      <td>NAMER</td>\n",
       "      <td>0</td>\n",
       "      <td>5f974944-eee6-414f-8bd3-7c22697404ca</td>\n",
       "      <td>2023-01-17T23:29:44Z</td>\n",
       "    </tr>\n",
       "    <tr>\n",
       "      <th>2</th>\n",
       "      <td>NewLeadSource_2</td>\n",
       "      <td>Engineering</td>\n",
       "      <td>ContentPresentation</td>\n",
       "      <td>Large</td>\n",
       "      <td>NoPromo</td>\n",
       "      <td>NAMER</td>\n",
       "      <td>0</td>\n",
       "      <td>5f974944-eee6-414f-8bd3-7c22697404ca</td>\n",
       "      <td>2023-01-20T02:15:15Z</td>\n",
       "    </tr>\n",
       "    <tr>\n",
       "      <th>3</th>\n",
       "      <td>NewLeadSource_3</td>\n",
       "      <td>Engineering</td>\n",
       "      <td>ContentPresentation</td>\n",
       "      <td>Large</td>\n",
       "      <td>NoPromo</td>\n",
       "      <td>NAMER</td>\n",
       "      <td>0</td>\n",
       "      <td>5f974944-eee6-414f-8bd3-7c22697404ca</td>\n",
       "      <td>2023-01-10T19:31:53Z</td>\n",
       "    </tr>\n",
       "    <tr>\n",
       "      <th>4</th>\n",
       "      <td>NewLeadSource_4</td>\n",
       "      <td>Engineering</td>\n",
       "      <td>ContentPresentation</td>\n",
       "      <td>Large</td>\n",
       "      <td>NoPromo</td>\n",
       "      <td>NAMER</td>\n",
       "      <td>0</td>\n",
       "      <td>5f974944-eee6-414f-8bd3-7c22697404ca</td>\n",
       "      <td>2023-01-29T19:35:49Z</td>\n",
       "    </tr>\n",
       "  </tbody>\n",
       "</table>\n",
       "</div>"
      ],
      "text/plain": [
       "        LeadSource      JobRole         ContactNotes LeadProfile UsedPromo  \\\n",
       "0  NewLeadSource_0  Engineering  ContentPresentation       Large   NoPromo   \n",
       "1  NewLeadSource_1  Engineering  ContentPresentation       Large   NoPromo   \n",
       "2  NewLeadSource_2  Engineering  ContentPresentation       Large   NoPromo   \n",
       "3  NewLeadSource_3  Engineering  ContentPresentation       Large   NoPromo   \n",
       "4  NewLeadSource_4  Engineering  ContentPresentation       Large   NoPromo   \n",
       "\n",
       "  Region  Converted                       Lead_ProspectID  \\\n",
       "0  NAMER          0  5f974944-eee6-414f-8bd3-7c22697404ca   \n",
       "1  NAMER          0  5f974944-eee6-414f-8bd3-7c22697404ca   \n",
       "2  NAMER          0  5f974944-eee6-414f-8bd3-7c22697404ca   \n",
       "3  NAMER          0  5f974944-eee6-414f-8bd3-7c22697404ca   \n",
       "4  NAMER          0  5f974944-eee6-414f-8bd3-7c22697404ca   \n",
       "\n",
       "         Lead_EventTime  \n",
       "0  2023-01-26T23:22:59Z  \n",
       "1  2023-01-17T23:29:44Z  \n",
       "2  2023-01-20T02:15:15Z  \n",
       "3  2023-01-10T19:31:53Z  \n",
       "4  2023-01-29T19:35:49Z  "
      ]
     },
     "execution_count": 18,
     "metadata": {},
     "output_type": "execute_result"
    }
   ],
   "source": [
    "# View new records for time-series #1\n",
    "\n",
    "new_records_df1.head()"
   ]
  },
  {
   "cell_type": "code",
   "execution_count": 19,
   "metadata": {
    "tags": []
   },
   "outputs": [
    {
     "data": {
      "text/html": [
       "<div>\n",
       "<style scoped>\n",
       "    .dataframe tbody tr th:only-of-type {\n",
       "        vertical-align: middle;\n",
       "    }\n",
       "\n",
       "    .dataframe tbody tr th {\n",
       "        vertical-align: top;\n",
       "    }\n",
       "\n",
       "    .dataframe thead th {\n",
       "        text-align: right;\n",
       "    }\n",
       "</style>\n",
       "<table border=\"1\" class=\"dataframe\">\n",
       "  <thead>\n",
       "    <tr style=\"text-align: right;\">\n",
       "      <th></th>\n",
       "      <th>LeadSource</th>\n",
       "      <th>JobRole</th>\n",
       "      <th>ContactNotes</th>\n",
       "      <th>LeadProfile</th>\n",
       "      <th>UsedPromo</th>\n",
       "      <th>Region</th>\n",
       "      <th>Converted</th>\n",
       "      <th>Lead_ProspectID</th>\n",
       "      <th>Lead_EventTime</th>\n",
       "    </tr>\n",
       "  </thead>\n",
       "  <tbody>\n",
       "    <tr>\n",
       "      <th>0</th>\n",
       "      <td>NewLeadSource_0</td>\n",
       "      <td>HR</td>\n",
       "      <td>NeedsCaseStudy</td>\n",
       "      <td>Large</td>\n",
       "      <td>NoPromo</td>\n",
       "      <td>LATAM</td>\n",
       "      <td>0</td>\n",
       "      <td>5e84c78f-6438-4d91-aa96-b492f7e91029</td>\n",
       "      <td>2023-01-09T07:52:17Z</td>\n",
       "    </tr>\n",
       "    <tr>\n",
       "      <th>1</th>\n",
       "      <td>NewLeadSource_1</td>\n",
       "      <td>HR</td>\n",
       "      <td>NeedsCaseStudy</td>\n",
       "      <td>Large</td>\n",
       "      <td>NoPromo</td>\n",
       "      <td>LATAM</td>\n",
       "      <td>0</td>\n",
       "      <td>5e84c78f-6438-4d91-aa96-b492f7e91029</td>\n",
       "      <td>2023-01-06T13:56:12Z</td>\n",
       "    </tr>\n",
       "    <tr>\n",
       "      <th>2</th>\n",
       "      <td>NewLeadSource_2</td>\n",
       "      <td>HR</td>\n",
       "      <td>NeedsCaseStudy</td>\n",
       "      <td>Large</td>\n",
       "      <td>NoPromo</td>\n",
       "      <td>LATAM</td>\n",
       "      <td>0</td>\n",
       "      <td>5e84c78f-6438-4d91-aa96-b492f7e91029</td>\n",
       "      <td>2023-01-28T21:09:02Z</td>\n",
       "    </tr>\n",
       "    <tr>\n",
       "      <th>3</th>\n",
       "      <td>NewLeadSource_3</td>\n",
       "      <td>HR</td>\n",
       "      <td>NeedsCaseStudy</td>\n",
       "      <td>Large</td>\n",
       "      <td>NoPromo</td>\n",
       "      <td>LATAM</td>\n",
       "      <td>0</td>\n",
       "      <td>5e84c78f-6438-4d91-aa96-b492f7e91029</td>\n",
       "      <td>2023-01-26T20:32:51Z</td>\n",
       "    </tr>\n",
       "    <tr>\n",
       "      <th>4</th>\n",
       "      <td>NewLeadSource_4</td>\n",
       "      <td>HR</td>\n",
       "      <td>NeedsCaseStudy</td>\n",
       "      <td>Large</td>\n",
       "      <td>NoPromo</td>\n",
       "      <td>LATAM</td>\n",
       "      <td>0</td>\n",
       "      <td>5e84c78f-6438-4d91-aa96-b492f7e91029</td>\n",
       "      <td>2023-01-09T15:11:59Z</td>\n",
       "    </tr>\n",
       "  </tbody>\n",
       "</table>\n",
       "</div>"
      ],
      "text/plain": [
       "        LeadSource JobRole    ContactNotes LeadProfile UsedPromo Region  \\\n",
       "0  NewLeadSource_0      HR  NeedsCaseStudy       Large   NoPromo  LATAM   \n",
       "1  NewLeadSource_1      HR  NeedsCaseStudy       Large   NoPromo  LATAM   \n",
       "2  NewLeadSource_2      HR  NeedsCaseStudy       Large   NoPromo  LATAM   \n",
       "3  NewLeadSource_3      HR  NeedsCaseStudy       Large   NoPromo  LATAM   \n",
       "4  NewLeadSource_4      HR  NeedsCaseStudy       Large   NoPromo  LATAM   \n",
       "\n",
       "   Converted                       Lead_ProspectID        Lead_EventTime  \n",
       "0          0  5e84c78f-6438-4d91-aa96-b492f7e91029  2023-01-09T07:52:17Z  \n",
       "1          0  5e84c78f-6438-4d91-aa96-b492f7e91029  2023-01-06T13:56:12Z  \n",
       "2          0  5e84c78f-6438-4d91-aa96-b492f7e91029  2023-01-28T21:09:02Z  \n",
       "3          0  5e84c78f-6438-4d91-aa96-b492f7e91029  2023-01-26T20:32:51Z  \n",
       "4          0  5e84c78f-6438-4d91-aa96-b492f7e91029  2023-01-09T15:11:59Z  "
      ]
     },
     "execution_count": 19,
     "metadata": {},
     "output_type": "execute_result"
    }
   ],
   "source": [
    "# View new records for time-series #2\n",
    "\n",
    "new_records_df2.head()"
   ]
  },
  {
   "cell_type": "code",
   "execution_count": 20,
   "metadata": {
    "tags": []
   },
   "outputs": [
    {
     "name": "stdout",
     "output_type": "stream",
     "text": [
      "(10020, 9)\n"
     ]
    }
   ],
   "source": [
    "# Append new records to copy of base Dataframe\n",
    "\n",
    "updated_base_df = base_data_df.copy(deep=True)\n",
    "\n",
    "updated_base_df = updated_base_df.append(new_records_df1, ignore_index=True)\n",
    "updated_base_df = updated_base_df.append(new_records_df2, ignore_index=True)\n",
    "\n",
    "print(updated_base_df.shape)"
   ]
  },
  {
   "cell_type": "markdown",
   "metadata": {},
   "source": [
    "### Create FeatureGroup for base dataframe\n",
    "\n",
    "We create the initial (base) Feature Group by choosing a name, loading feature definitions from the Pandas dataframe, and then calling `FeatureGroup.create`, providing the names for the two required attributes (`record_identifier_name` and `event_time_feature_name`).\n"
   ]
  },
  {
   "cell_type": "code",
   "execution_count": 21,
   "metadata": {
    "tags": []
   },
   "outputs": [
    {
     "name": "stdout",
     "output_type": "stream",
     "text": [
      "Objects created under bucket: sagemaker-us-east-1-572539092864\n"
     ]
    },
    {
     "data": {
      "text/plain": [
       "{'FeatureGroupArn': 'arn:aws:sagemaker:us-east-1:572539092864:feature-group/off-sdk-fg-lead',\n",
       " 'ResponseMetadata': {'RequestId': 'd34495d0-43de-46ab-a47d-b9de029bdb05',\n",
       "  'HTTPStatusCode': 200,\n",
       "  'HTTPHeaders': {'x-amzn-requestid': 'd34495d0-43de-46ab-a47d-b9de029bdb05',\n",
       "   'content-type': 'application/x-amz-json-1.1',\n",
       "   'content-length': '92',\n",
       "   'date': 'Tue, 11 Apr 2023 22:51:20 GMT'},\n",
       "  'RetryAttempts': 0}}"
      ]
     },
     "execution_count": 21,
     "metadata": {},
     "output_type": "execute_result"
    }
   ],
   "source": [
    "print('Objects created under bucket: ' + s3_bucket_name)\n",
    "\n",
    "# Create Feature Group:\n",
    "# Note: the base_name becomes the name of the FeatureGroup, and can be changed by user\n",
    "base_name = \"off-sdk-fg-lead\"   # No underscores\n",
    "\n",
    "base_fg = FeatureGroup(name=base_name, sagemaker_session=feature_store_session)\n",
    "\n",
    "base_fg.load_feature_definitions(data_frame=updated_base_df) \n",
    "\n",
    "base_fg.create(\n",
    "    s3_uri=f\"s3://{s3_bucket_name}/{s3_prefix}\",\n",
    "    record_identifier_name=\"Lead_ProspectID\",\n",
    "    event_time_feature_name=\"Lead_EventTime\",\n",
    "    role_arn=role,\n",
    "    enable_online_store=True,  # False to disable Online store\n",
    ")\n"
   ]
  },
  {
   "cell_type": "code",
   "execution_count": 22,
   "metadata": {
    "tags": []
   },
   "outputs": [
    {
     "name": "stdout",
     "output_type": "stream",
     "text": [
      "Waiting for Feature Group Creation\n",
      "Waiting for Feature Group Creation\n",
      "Waiting for Feature Group Creation\n",
      "Waiting for Feature Group Creation\n",
      "Waiting for Feature Group Creation\n",
      "Waiting for Feature Group Creation\n",
      "Waiting for Feature Group Creation\n",
      "Waiting for Feature Group Creation\n",
      "Waiting for Feature Group Creation\n",
      "Waiting for Feature Group Creation\n",
      "FeatureGroup off-sdk-fg-lead successfully created.\n"
     ]
    }
   ],
   "source": [
    "sample_helper.wait_for_feature_group_creation_complete(feature_group=base_fg)"
   ]
  },
  {
   "cell_type": "markdown",
   "metadata": {},
   "source": [
    "### Lookup Offline Store S3 Uri\n",
    "\n",
    "We call `FeatureGroup.describe` method to lookup config items for the Feature Group. In this case, we lookup the full S3 Uri prefix where Offline Store files are written, and remove the bucket name to be used as S3 prefix further down."
   ]
  },
  {
   "cell_type": "code",
   "execution_count": 23,
   "metadata": {
    "tags": []
   },
   "outputs": [
    {
     "name": "stdout",
     "output_type": "stream",
     "text": [
      "offline-store-sdk-artifacts-bgnhxvyzds/572539092864/sagemaker/us-east-1/offline-store/off-sdk-fg-lead-1681253480/data\n"
     ]
    }
   ],
   "source": [
    "# Use describe to lookup Offline Store S3 URI\n",
    "\n",
    "base_fg_resolved_output_s3_uri = base_fg.describe()[\"OfflineStoreConfig\"][\"S3StorageConfig\"][\"ResolvedOutputS3Uri\"]\n",
    "\n",
    "base_fg_s3_prefix = base_fg_resolved_output_s3_uri.replace(f\"s3://{s3_bucket_name}/\", \"\")\n",
    "print(base_fg_s3_prefix)"
   ]
  },
  {
   "cell_type": "markdown",
   "metadata": {},
   "source": [
    "### Ingest data from Dataframe into Feature Group"
   ]
  },
  {
   "cell_type": "markdown",
   "metadata": {},
   "source": [
    "#### Wait for data ingested into Feature Group to replicate to Offline Store\n",
    "\n",
    "When data is written to a Feature Group (e.g. using `put_record` or `ingest`), it lands in the Online Store initially. Next, this data is replicated to the Offline Store hosted on S3, where it can be queried and loaded for pre-processing or model training. This replication can take anywhere from 5 minutes up to 15 minutes. The wait function below will test and wait for data to appear in the S3 Offline Store."
   ]
  },
  {
   "cell_type": "code",
   "execution_count": 24,
   "metadata": {
    "tags": []
   },
   "outputs": [
    {
     "name": "stdout",
     "output_type": "stream",
     "text": [
      "Polling S3 location for data: offline-store-sdk-artifacts-bgnhxvyzds/572539092864/sagemaker/us-east-1/offline-store/off-sdk-fg-lead-1681253480/data\n",
      "Waiting for data in offline store...\n",
      "Waiting for data in offline store...\n",
      "Waiting for data in offline store...\n",
      "Waiting for data in offline store...\n",
      "Waiting for data in offline store...\n",
      "Data available.\n"
     ]
    }
   ],
   "source": [
    "base_fg.ingest(data_frame=updated_base_df, max_workers=3, wait=True)\n",
    "\n",
    "sample_helper.wait_for_feature_group_data_ingest(s3_bucket_name, base_fg_s3_prefix)"
   ]
  },
  {
   "cell_type": "markdown",
   "metadata": {},
   "source": [
    "## Create Dataset from single Feature Group"
   ]
  },
  {
   "cell_type": "markdown",
   "metadata": {},
   "source": [
    "We can create a Feature Store Dataset from one or multiple existing Feature Groups. Here we call the first new SDK method `FeatureStore.create_dataset` which wraps an underlying call to the [DatasetBuilder](https://sagemaker.readthedocs.io/en/stable/api/prep_data/feature_store.html#dataset-builder) class to generate our first dataset. \n",
    "\n",
    "Note: The `to_csv_file` method returns a tuple, consisting of the S3 location of the CSV file, and the underlying query executed to produce the datast. The execution query can be inspected for debugging purposes, or can be provided as an Athena query if desired."
   ]
  },
  {
   "cell_type": "code",
   "execution_count": 25,
   "metadata": {
    "tags": []
   },
   "outputs": [
    {
     "name": "stdout",
     "output_type": "stream",
     "text": [
      "CSV file: s3://sagemaker-us-east-1-572539092864/offline-store-sdk-artifacts-bgnhxvyzds/dataset_query_results/4eb8cc0d-c412-4706-826f-42a7fddd399b.csv\n"
     ]
    }
   ],
   "source": [
    "# Create dataset from single (base) FeatureGroup \n",
    "\n",
    "ds1_builder = feature_store.create_dataset(\n",
    "\tbase=base_fg,\n",
    "\toutput_path=f\"s3://{s3_bucket_name}/{s3_prefix}/dataset_query_results\"\n",
    ")\n",
    "\n",
    "# Returns: tuple (CSV file, SQL query)\n",
    "csv_file, query = ds1_builder.to_csv_file()\n",
    "\n",
    "# Show S3 location of CSV file\n",
    "print(f'CSV file: {csv_file}')"
   ]
  },
  {
   "cell_type": "markdown",
   "metadata": {},
   "source": [
    "#### Create Dataset from Feature Group and Pandas Dataframe\n",
    "\n",
    "Another way to create a Feature Store Dataset is to reference a Pandas dataframe and an existing Feature Group. In this case, a SQL Join operation is performed between the existing feature group and the dataframe, using the `record_identifier_feature_name` attribute as join key."
   ]
  },
  {
   "cell_type": "code",
   "execution_count": 26,
   "metadata": {
    "tags": []
   },
   "outputs": [],
   "source": [
    "# Create dataset from Pandas dataframe\n",
    "\n",
    "ds2_builder = feature_store.create_dataset(\n",
    "    base=new_records_df2,  # Pandas dataframe\n",
    "    event_time_identifier_feature_name=\"Lead_EventTime\", \n",
    "    record_identifier_feature_name=\"Lead_ProspectID\",\n",
    "    output_path=f\"s3://{s3_bucket_name}/{s3_prefix}/dataset_query_results\"\n",
    ").with_feature_group(base_fg, \"Lead_ProspectID\", [\"LeadSource\"])\n"
   ]
  },
  {
   "cell_type": "code",
   "execution_count": 27,
   "metadata": {
    "tags": []
   },
   "outputs": [
    {
     "name": "stdout",
     "output_type": "stream",
     "text": [
      "(110, 10)\n"
     ]
    }
   ],
   "source": [
    "# Generate dataframe from dataset\n",
    "ds2_df, ds2_query = ds2_builder.to_dataframe()\n",
    "\n",
    "print(ds2_df.shape)"
   ]
  },
  {
   "cell_type": "code",
   "execution_count": 28,
   "metadata": {
    "tags": []
   },
   "outputs": [
    {
     "name": "stdout",
     "output_type": "stream",
     "text": [
      "(11, 10)\n"
     ]
    },
    {
     "data": {
      "text/html": [
       "<div>\n",
       "<style scoped>\n",
       "    .dataframe tbody tr th:only-of-type {\n",
       "        vertical-align: middle;\n",
       "    }\n",
       "\n",
       "    .dataframe tbody tr th {\n",
       "        vertical-align: top;\n",
       "    }\n",
       "\n",
       "    .dataframe thead th {\n",
       "        text-align: right;\n",
       "    }\n",
       "</style>\n",
       "<table border=\"1\" class=\"dataframe\">\n",
       "  <thead>\n",
       "    <tr style=\"text-align: right;\">\n",
       "      <th></th>\n",
       "      <th>LeadSource</th>\n",
       "      <th>JobRole</th>\n",
       "      <th>ContactNotes</th>\n",
       "      <th>LeadProfile</th>\n",
       "      <th>UsedPromo</th>\n",
       "      <th>Region</th>\n",
       "      <th>Converted</th>\n",
       "      <th>Lead_ProspectID</th>\n",
       "      <th>Lead_EventTime</th>\n",
       "      <th>LeadSource.1</th>\n",
       "    </tr>\n",
       "  </thead>\n",
       "  <tbody>\n",
       "    <tr>\n",
       "      <th>0</th>\n",
       "      <td>NewLeadSource_0</td>\n",
       "      <td>HR</td>\n",
       "      <td>NeedsCaseStudy</td>\n",
       "      <td>Large</td>\n",
       "      <td>NoPromo</td>\n",
       "      <td>LATAM</td>\n",
       "      <td>0</td>\n",
       "      <td>5e84c78f-6438-4d91-aa96-b492f7e91029</td>\n",
       "      <td>2023-01-09T07:52:17Z</td>\n",
       "      <td>NewLeadSource_6</td>\n",
       "    </tr>\n",
       "    <tr>\n",
       "      <th>1</th>\n",
       "      <td>NewLeadSource_0</td>\n",
       "      <td>HR</td>\n",
       "      <td>NeedsCaseStudy</td>\n",
       "      <td>Large</td>\n",
       "      <td>NoPromo</td>\n",
       "      <td>LATAM</td>\n",
       "      <td>0</td>\n",
       "      <td>5e84c78f-6438-4d91-aa96-b492f7e91029</td>\n",
       "      <td>2023-01-09T07:52:17Z</td>\n",
       "      <td>NewLeadSource_1</td>\n",
       "    </tr>\n",
       "    <tr>\n",
       "      <th>2</th>\n",
       "      <td>NewLeadSource_0</td>\n",
       "      <td>HR</td>\n",
       "      <td>NeedsCaseStudy</td>\n",
       "      <td>Large</td>\n",
       "      <td>NoPromo</td>\n",
       "      <td>LATAM</td>\n",
       "      <td>0</td>\n",
       "      <td>5e84c78f-6438-4d91-aa96-b492f7e91029</td>\n",
       "      <td>2023-01-09T07:52:17Z</td>\n",
       "      <td>NewLeadSource_0</td>\n",
       "    </tr>\n",
       "    <tr>\n",
       "      <th>3</th>\n",
       "      <td>NewLeadSource_0</td>\n",
       "      <td>HR</td>\n",
       "      <td>NeedsCaseStudy</td>\n",
       "      <td>Large</td>\n",
       "      <td>NoPromo</td>\n",
       "      <td>LATAM</td>\n",
       "      <td>0</td>\n",
       "      <td>5e84c78f-6438-4d91-aa96-b492f7e91029</td>\n",
       "      <td>2023-01-09T07:52:17Z</td>\n",
       "      <td>NewLeadSource_8</td>\n",
       "    </tr>\n",
       "    <tr>\n",
       "      <th>4</th>\n",
       "      <td>NewLeadSource_0</td>\n",
       "      <td>HR</td>\n",
       "      <td>NeedsCaseStudy</td>\n",
       "      <td>Large</td>\n",
       "      <td>NoPromo</td>\n",
       "      <td>LATAM</td>\n",
       "      <td>0</td>\n",
       "      <td>5e84c78f-6438-4d91-aa96-b492f7e91029</td>\n",
       "      <td>2023-01-09T07:52:17Z</td>\n",
       "      <td>NewLeadSource_3</td>\n",
       "    </tr>\n",
       "  </tbody>\n",
       "</table>\n",
       "</div>"
      ],
      "text/plain": [
       "        LeadSource JobRole    ContactNotes LeadProfile UsedPromo Region  \\\n",
       "0  NewLeadSource_0      HR  NeedsCaseStudy       Large   NoPromo  LATAM   \n",
       "1  NewLeadSource_0      HR  NeedsCaseStudy       Large   NoPromo  LATAM   \n",
       "2  NewLeadSource_0      HR  NeedsCaseStudy       Large   NoPromo  LATAM   \n",
       "3  NewLeadSource_0      HR  NeedsCaseStudy       Large   NoPromo  LATAM   \n",
       "4  NewLeadSource_0      HR  NeedsCaseStudy       Large   NoPromo  LATAM   \n",
       "\n",
       "   Converted                       Lead_ProspectID        Lead_EventTime  \\\n",
       "0          0  5e84c78f-6438-4d91-aa96-b492f7e91029  2023-01-09T07:52:17Z   \n",
       "1          0  5e84c78f-6438-4d91-aa96-b492f7e91029  2023-01-09T07:52:17Z   \n",
       "2          0  5e84c78f-6438-4d91-aa96-b492f7e91029  2023-01-09T07:52:17Z   \n",
       "3          0  5e84c78f-6438-4d91-aa96-b492f7e91029  2023-01-09T07:52:17Z   \n",
       "4          0  5e84c78f-6438-4d91-aa96-b492f7e91029  2023-01-09T07:52:17Z   \n",
       "\n",
       "      LeadSource.1  \n",
       "0  NewLeadSource_6  \n",
       "1  NewLeadSource_1  \n",
       "2  NewLeadSource_0  \n",
       "3  NewLeadSource_8  \n",
       "4  NewLeadSource_3  "
      ]
     },
     "execution_count": 28,
     "metadata": {},
     "output_type": "execute_result"
    }
   ],
   "source": [
    "# Submit Pandas query for matching record ID\n",
    "query = f\"LeadSource == 'NewLeadSource_0'\"\n",
    "\n",
    "leadsource_match = ds2_df.query(query, inplace=False)\n",
    "print(leadsource_match.shape)\n",
    "\n",
    "leadsource_match.head(5)"
   ]
  },
  {
   "cell_type": "markdown",
   "metadata": {},
   "source": [
    "## Demonstrate use of Point-in-Time Join\n",
    "\n",
    "We reference the two record_id's from the extra sample records generated above to perform the point-in-time join. These new sample records create a mini-set of time-series data where the `Lead_EventTime` spans a single month (Jan 2023). Below, we create an entity dataframe with two event times that indicate the \"cut-off\" time. When we enable the `point_in_time_accurate_join` in the `create_dataset` call below, the internal query will exclude all records with timestamps LATER then the cut-off times supplied. The entity dataframe with the cut-off event times is submitted as the `base` dataframe in the DatasetBuilder constructor."
   ]
  },
  {
   "cell_type": "code",
   "execution_count": 29,
   "metadata": {
    "tags": []
   },
   "outputs": [
    {
     "name": "stdout",
     "output_type": "stream",
     "text": [
      "[['2023-01-20T00:00:00Z', '5f974944-eee6-414f-8bd3-7c22697404ca'], ['2023-01-15T00:00:00Z', '5e84c78f-6438-4d91-aa96-b492f7e91029']]\n"
     ]
    }
   ],
   "source": [
    "# Create Events (entity table) dataframe to pass Timestamp for Point-in-Time Join\n",
    "\n",
    "events = [['2023-01-20T00:00:00Z', record_id1],\n",
    "          ['2023-01-15T00:00:00Z', record_id2]]\n",
    "\n",
    "print(events)\n",
    "\n",
    "df_events = pd.DataFrame(events, columns=['Event_Time', 'Lead_ProspectID']) \n"
   ]
  },
  {
   "cell_type": "code",
   "execution_count": 30,
   "metadata": {
    "tags": []
   },
   "outputs": [],
   "source": [
    "# Create Dataset Builder using point-in-time-accurate-join function\n",
    "\n",
    "pit_builder = feature_store.create_dataset(\n",
    "    base=df_events, \n",
    "    event_time_identifier_feature_name='Event_Time', \n",
    "    record_identifier_feature_name='Lead_ProspectID',\n",
    "    output_path=f\"s3://{s3_bucket_name}/{s3_prefix}/dataset_query_results\"\n",
    ").with_feature_group(base_fg, \"Lead_ProspectID\"\n",
    ").point_in_time_accurate_join(\n",
    ").with_number_of_recent_records_by_record_identifier(1)\n"
   ]
  },
  {
   "cell_type": "markdown",
   "metadata": {},
   "source": [
    "### Review the results returned by the point-in-time join\n",
    "\n",
    "Notice that there are only two records in the dataframe returned by the point-in-time join. This is because we only submitted two records in the entity dataframe, one for each record_id we want to retrieve. The entity dataframe includes the record_id (primary key) to match and the event time for each key, which is used to exclude newer records. This means that a record's event time (stored in `Lead_Eventtime` field) must contain a value that is less-than the cut-off time. \n",
    "\n",
    "Additionally, we only retrieve the latest record that meets this criteria since we have applied the `with_number_of_recent_records_by_record_identifier` method. When used in conjunction with `point_in_time_accurate_join` method, this allows the caller to specify how many records to return from those that meet the point-in-time join criteria. \n",
    "\n",
    "Notice also that each of the records returned from the point-in-time join contain the new (fake) LeadSource values, which proves they were part of the mini-set of time-series data added to the original dataframe. \n"
   ]
  },
  {
   "cell_type": "code",
   "execution_count": 31,
   "metadata": {
    "tags": []
   },
   "outputs": [
    {
     "name": "stdout",
     "output_type": "stream",
     "text": [
      "(2, 11)\n"
     ]
    },
    {
     "data": {
      "text/html": [
       "<div>\n",
       "<style scoped>\n",
       "    .dataframe tbody tr th:only-of-type {\n",
       "        vertical-align: middle;\n",
       "    }\n",
       "\n",
       "    .dataframe tbody tr th {\n",
       "        vertical-align: top;\n",
       "    }\n",
       "\n",
       "    .dataframe thead th {\n",
       "        text-align: right;\n",
       "    }\n",
       "</style>\n",
       "<table border=\"1\" class=\"dataframe\">\n",
       "  <thead>\n",
       "    <tr style=\"text-align: right;\">\n",
       "      <th></th>\n",
       "      <th>Event_Time</th>\n",
       "      <th>Lead_ProspectID</th>\n",
       "      <th>LeadSource.1</th>\n",
       "      <th>JobRole.1</th>\n",
       "      <th>ContactNotes.1</th>\n",
       "      <th>LeadProfile.1</th>\n",
       "      <th>UsedPromo.1</th>\n",
       "      <th>Region.1</th>\n",
       "      <th>Converted.1</th>\n",
       "      <th>Lead_ProspectID.1</th>\n",
       "      <th>Lead_EventTime.1</th>\n",
       "    </tr>\n",
       "  </thead>\n",
       "  <tbody>\n",
       "    <tr>\n",
       "      <th>0</th>\n",
       "      <td>2023-01-20T00:00:00Z</td>\n",
       "      <td>5f974944-eee6-414f-8bd3-7c22697404ca</td>\n",
       "      <td>NewLeadSource_1</td>\n",
       "      <td>Engineering</td>\n",
       "      <td>ContentPresentation</td>\n",
       "      <td>Large</td>\n",
       "      <td>NoPromo</td>\n",
       "      <td>NAMER</td>\n",
       "      <td>0</td>\n",
       "      <td>5f974944-eee6-414f-8bd3-7c22697404ca</td>\n",
       "      <td>2023-01-17T23:29:44Z</td>\n",
       "    </tr>\n",
       "    <tr>\n",
       "      <th>1</th>\n",
       "      <td>2023-01-15T00:00:00Z</td>\n",
       "      <td>5e84c78f-6438-4d91-aa96-b492f7e91029</td>\n",
       "      <td>NewLeadSource_4</td>\n",
       "      <td>HR</td>\n",
       "      <td>NeedsCaseStudy</td>\n",
       "      <td>Large</td>\n",
       "      <td>NoPromo</td>\n",
       "      <td>LATAM</td>\n",
       "      <td>0</td>\n",
       "      <td>5e84c78f-6438-4d91-aa96-b492f7e91029</td>\n",
       "      <td>2023-01-09T15:11:59Z</td>\n",
       "    </tr>\n",
       "  </tbody>\n",
       "</table>\n",
       "</div>"
      ],
      "text/plain": [
       "             Event_Time                       Lead_ProspectID  \\\n",
       "0  2023-01-20T00:00:00Z  5f974944-eee6-414f-8bd3-7c22697404ca   \n",
       "1  2023-01-15T00:00:00Z  5e84c78f-6438-4d91-aa96-b492f7e91029   \n",
       "\n",
       "      LeadSource.1    JobRole.1       ContactNotes.1 LeadProfile.1  \\\n",
       "0  NewLeadSource_1  Engineering  ContentPresentation         Large   \n",
       "1  NewLeadSource_4           HR       NeedsCaseStudy         Large   \n",
       "\n",
       "  UsedPromo.1 Region.1  Converted.1                     Lead_ProspectID.1  \\\n",
       "0     NoPromo    NAMER            0  5f974944-eee6-414f-8bd3-7c22697404ca   \n",
       "1     NoPromo    LATAM            0  5e84c78f-6438-4d91-aa96-b492f7e91029   \n",
       "\n",
       "       Lead_EventTime.1  \n",
       "0  2023-01-17T23:29:44Z  \n",
       "1  2023-01-09T15:11:59Z  "
      ]
     },
     "execution_count": 31,
     "metadata": {},
     "output_type": "execute_result"
    }
   ],
   "source": [
    "# Export result set to Dataframe and Query string\n",
    "pit_df, pit_query = pit_builder.to_dataframe()\n",
    "\n",
    "print(pit_df.shape)\n",
    "pit_df.head()"
   ]
  },
  {
   "cell_type": "markdown",
   "metadata": {},
   "source": [
    "#### We can retrieve CSV file from S3 to validate record data"
   ]
  },
  {
   "cell_type": "code",
   "execution_count": 32,
   "metadata": {
    "tags": []
   },
   "outputs": [
    {
     "data": {
      "text/plain": [
       "'s3://sagemaker-us-east-1-572539092864/offline-store-sdk-artifacts-bgnhxvyzds/dataset_query_results/91cac9b7-773f-47a4-8592-55ad70ac14ff.csv'"
      ]
     },
     "execution_count": 32,
     "metadata": {},
     "output_type": "execute_result"
    }
   ],
   "source": [
    "# Write point-in-time-accurate-join result set to S3 file\n",
    "\n",
    "# Returns: tuple (CSV file, SQL query)\n",
    "pit_csv, pit_query = pit_builder.to_csv_file()\n",
    "pit_csv\n"
   ]
  },
  {
   "cell_type": "markdown",
   "metadata": {
    "tags": []
   },
   "source": [
    "### Now let's build an Athena Query to compare the results of the Offline SDK\n",
    "\n",
    "First, we build a standard Athena query using a SELECT statement that returns ALL records for the given record_id, since we have not provided a WHERE clause to restrict the results set. "
   ]
  },
  {
   "cell_type": "code",
   "execution_count": 33,
   "metadata": {
    "tags": []
   },
   "outputs": [
    {
     "name": "stdout",
     "output_type": "stream",
     "text": [
      "AthenaQuery(catalog='AwsDataCatalog', database='sagemaker_featurestore', table_name='off_sdk_fg_lead_1681253480', sagemaker_session=<sagemaker.session.Session object at 0x7f06c329d910>, _current_query_execution_id=None, _result_bucket=None, _result_file_prefix=None)\n",
      "off_sdk_fg_lead_1681253480\n"
     ]
    }
   ],
   "source": [
    "# Create Athena Query and retrieve table name\n",
    "lead_query = base_fg.athena_query()\n",
    "print(lead_query)\n",
    "\n",
    "lead_table = lead_query.table_name\n",
    "print(lead_table)"
   ]
  },
  {
   "cell_type": "code",
   "execution_count": 34,
   "metadata": {
    "tags": []
   },
   "outputs": [
    {
     "name": "stdout",
     "output_type": "stream",
     "text": [
      "SELECT * FROM \"sagemaker_featurestore\".\"off_sdk_fg_lead_1681253480\" WHERE \"off_sdk_fg_lead_1681253480\".\"Lead_ProspectID\" = '5e84c78f-6438-4d91-aa96-b492f7e91029' \n",
      "s3://sagemaker-us-east-1-572539092864/offline-store-sdk-artifacts-bgnhxvyzds/athena_query_results/\n"
     ]
    }
   ],
   "source": [
    "# Define Athena query string and output location\n",
    "lead_query_recid2 = f'SELECT * FROM \"sagemaker_featurestore\".\"{lead_table}\" ' \\\n",
    "               f'WHERE \"{lead_table}\".\"Lead_ProspectID\" = \\'{record_id2}\\' '\n",
    "\n",
    "print(lead_query_recid2)\n",
    "\n",
    "output_location = f's3://{s3_bucket_name}/{s3_prefix}/athena_query_results/'\n",
    "print(output_location)"
   ]
  },
  {
   "cell_type": "code",
   "execution_count": 35,
   "metadata": {
    "tags": []
   },
   "outputs": [
    {
     "name": "stdout",
     "output_type": "stream",
     "text": [
      "(11, 12)\n"
     ]
    },
    {
     "data": {
      "text/html": [
       "<div>\n",
       "<style scoped>\n",
       "    .dataframe tbody tr th:only-of-type {\n",
       "        vertical-align: middle;\n",
       "    }\n",
       "\n",
       "    .dataframe tbody tr th {\n",
       "        vertical-align: top;\n",
       "    }\n",
       "\n",
       "    .dataframe thead th {\n",
       "        text-align: right;\n",
       "    }\n",
       "</style>\n",
       "<table border=\"1\" class=\"dataframe\">\n",
       "  <thead>\n",
       "    <tr style=\"text-align: right;\">\n",
       "      <th></th>\n",
       "      <th>leadsource</th>\n",
       "      <th>jobrole</th>\n",
       "      <th>contactnotes</th>\n",
       "      <th>leadprofile</th>\n",
       "      <th>usedpromo</th>\n",
       "      <th>region</th>\n",
       "      <th>converted</th>\n",
       "      <th>lead_prospectid</th>\n",
       "      <th>lead_eventtime</th>\n",
       "      <th>write_time</th>\n",
       "      <th>api_invocation_time</th>\n",
       "      <th>is_deleted</th>\n",
       "    </tr>\n",
       "  </thead>\n",
       "  <tbody>\n",
       "    <tr>\n",
       "      <th>0</th>\n",
       "      <td>Digital Ad</td>\n",
       "      <td>HR</td>\n",
       "      <td>NeedsCaseStudy</td>\n",
       "      <td>Large</td>\n",
       "      <td>NoPromo</td>\n",
       "      <td>LATAM</td>\n",
       "      <td>0</td>\n",
       "      <td>5e84c78f-6438-4d91-aa96-b492f7e91029</td>\n",
       "      <td>2022-02-15T21:47:11Z</td>\n",
       "      <td>2023-04-11 22:57:23.995</td>\n",
       "      <td>2023-04-11 22:52:14.000</td>\n",
       "      <td>False</td>\n",
       "    </tr>\n",
       "    <tr>\n",
       "      <th>1</th>\n",
       "      <td>NewLeadSource_0</td>\n",
       "      <td>HR</td>\n",
       "      <td>NeedsCaseStudy</td>\n",
       "      <td>Large</td>\n",
       "      <td>NoPromo</td>\n",
       "      <td>LATAM</td>\n",
       "      <td>0</td>\n",
       "      <td>5e84c78f-6438-4d91-aa96-b492f7e91029</td>\n",
       "      <td>2023-01-09T07:52:17Z</td>\n",
       "      <td>2023-04-11 22:57:25.112</td>\n",
       "      <td>2023-04-11 22:52:48.000</td>\n",
       "      <td>False</td>\n",
       "    </tr>\n",
       "    <tr>\n",
       "      <th>2</th>\n",
       "      <td>NewLeadSource_1</td>\n",
       "      <td>HR</td>\n",
       "      <td>NeedsCaseStudy</td>\n",
       "      <td>Large</td>\n",
       "      <td>NoPromo</td>\n",
       "      <td>LATAM</td>\n",
       "      <td>0</td>\n",
       "      <td>5e84c78f-6438-4d91-aa96-b492f7e91029</td>\n",
       "      <td>2023-01-06T13:56:12Z</td>\n",
       "      <td>2023-04-11 22:57:25.344</td>\n",
       "      <td>2023-04-11 22:52:48.000</td>\n",
       "      <td>False</td>\n",
       "    </tr>\n",
       "    <tr>\n",
       "      <th>3</th>\n",
       "      <td>NewLeadSource_8</td>\n",
       "      <td>HR</td>\n",
       "      <td>NeedsCaseStudy</td>\n",
       "      <td>Large</td>\n",
       "      <td>NoPromo</td>\n",
       "      <td>LATAM</td>\n",
       "      <td>0</td>\n",
       "      <td>5e84c78f-6438-4d91-aa96-b492f7e91029</td>\n",
       "      <td>2023-01-17T23:29:44Z</td>\n",
       "      <td>2023-04-11 22:57:24.842</td>\n",
       "      <td>2023-04-11 22:52:48.000</td>\n",
       "      <td>False</td>\n",
       "    </tr>\n",
       "    <tr>\n",
       "      <th>4</th>\n",
       "      <td>NewLeadSource_2</td>\n",
       "      <td>HR</td>\n",
       "      <td>NeedsCaseStudy</td>\n",
       "      <td>Large</td>\n",
       "      <td>NoPromo</td>\n",
       "      <td>LATAM</td>\n",
       "      <td>0</td>\n",
       "      <td>5e84c78f-6438-4d91-aa96-b492f7e91029</td>\n",
       "      <td>2023-01-28T21:09:02Z</td>\n",
       "      <td>2023-04-11 22:57:19.792</td>\n",
       "      <td>2023-04-11 22:52:48.000</td>\n",
       "      <td>False</td>\n",
       "    </tr>\n",
       "  </tbody>\n",
       "</table>\n",
       "</div>"
      ],
      "text/plain": [
       "        leadsource jobrole    contactnotes leadprofile usedpromo region  \\\n",
       "0       Digital Ad      HR  NeedsCaseStudy       Large   NoPromo  LATAM   \n",
       "1  NewLeadSource_0      HR  NeedsCaseStudy       Large   NoPromo  LATAM   \n",
       "2  NewLeadSource_1      HR  NeedsCaseStudy       Large   NoPromo  LATAM   \n",
       "3  NewLeadSource_8      HR  NeedsCaseStudy       Large   NoPromo  LATAM   \n",
       "4  NewLeadSource_2      HR  NeedsCaseStudy       Large   NoPromo  LATAM   \n",
       "\n",
       "   converted                       lead_prospectid        lead_eventtime  \\\n",
       "0          0  5e84c78f-6438-4d91-aa96-b492f7e91029  2022-02-15T21:47:11Z   \n",
       "1          0  5e84c78f-6438-4d91-aa96-b492f7e91029  2023-01-09T07:52:17Z   \n",
       "2          0  5e84c78f-6438-4d91-aa96-b492f7e91029  2023-01-06T13:56:12Z   \n",
       "3          0  5e84c78f-6438-4d91-aa96-b492f7e91029  2023-01-17T23:29:44Z   \n",
       "4          0  5e84c78f-6438-4d91-aa96-b492f7e91029  2023-01-28T21:09:02Z   \n",
       "\n",
       "                write_time      api_invocation_time  is_deleted  \n",
       "0  2023-04-11 22:57:23.995  2023-04-11 22:52:14.000       False  \n",
       "1  2023-04-11 22:57:25.112  2023-04-11 22:52:48.000       False  \n",
       "2  2023-04-11 22:57:25.344  2023-04-11 22:52:48.000       False  \n",
       "3  2023-04-11 22:57:24.842  2023-04-11 22:52:48.000       False  \n",
       "4  2023-04-11 22:57:19.792  2023-04-11 22:52:48.000       False  "
      ]
     },
     "execution_count": 35,
     "metadata": {},
     "output_type": "execute_result"
    }
   ],
   "source": [
    "lead_query.run(query_string=lead_query_recid2, output_location=output_location)\n",
    "lead_query.wait()\n",
    "\n",
    "athena_results_df = lead_query.as_dataframe()\n",
    "print(athena_results_df.shape)\n",
    "athena_results_df.head()"
   ]
  },
  {
   "cell_type": "markdown",
   "metadata": {},
   "source": [
    "### Comparing Athena Query Results\n",
    "\n",
    "Notice that the Athena query results also contain fields attached by the Feature Store, such as `write_time` and `is_deleted`. These fields are added to the record as it is written to the datastore, and provide additional ways to query or sort the record data. "
   ]
  },
  {
   "cell_type": "markdown",
   "metadata": {},
   "source": [
    "#### Compare records from Athena Query to Point-in-Time results above\n",
    "\n",
    "Notice that the Athena query from the SELECT statement above does not contain any point-in-time join semantics, so it returns all records that match the specified record_id (`Lead_ProspectID`). Next, we use Pandas to sort the Athena results by event times for easy comparison. Notice that the records with timestamps LATER than the events specified in the entity dataframe (e.g. '2023-01-15T00:00:00Z') submitted to the `point_in_time_accurate_join` do NOT show up in the point-in-time results. Since we additionally specified that we only want a single record from the `create_dataset` code above, we only get the latest record prior to the \"cut off\" time."
   ]
  },
  {
   "cell_type": "code",
   "execution_count": 36,
   "metadata": {
    "tags": []
   },
   "outputs": [
    {
     "name": "stdout",
     "output_type": "stream",
     "text": [
      "Lead_ProspectID: 5e84c78f-6438-4d91-aa96-b492f7e91029 Lead_Source: Digital Ad DateTime: 2022-02-15T21:47:11Z\n",
      "Lead_ProspectID: 5e84c78f-6438-4d91-aa96-b492f7e91029 Lead_Source: NewLeadSource_1 DateTime: 2023-01-06T13:56:12Z\n",
      "Lead_ProspectID: 5e84c78f-6438-4d91-aa96-b492f7e91029 Lead_Source: NewLeadSource_0 DateTime: 2023-01-09T07:52:17Z\n",
      "Lead_ProspectID: 5e84c78f-6438-4d91-aa96-b492f7e91029 Lead_Source: NewLeadSource_4 DateTime: 2023-01-09T15:11:59Z\n",
      "Lead_ProspectID: 5e84c78f-6438-4d91-aa96-b492f7e91029 Lead_Source: NewLeadSource_6 DateTime: 2023-01-15T16:14:27Z\n",
      "Lead_ProspectID: 5e84c78f-6438-4d91-aa96-b492f7e91029 Lead_Source: NewLeadSource_8 DateTime: 2023-01-17T23:29:44Z\n",
      "Lead_ProspectID: 5e84c78f-6438-4d91-aa96-b492f7e91029 Lead_Source: NewLeadSource_9 DateTime: 2023-01-26T06:58:53Z\n",
      "Lead_ProspectID: 5e84c78f-6438-4d91-aa96-b492f7e91029 Lead_Source: NewLeadSource_3 DateTime: 2023-01-26T20:32:51Z\n",
      "Lead_ProspectID: 5e84c78f-6438-4d91-aa96-b492f7e91029 Lead_Source: NewLeadSource_5 DateTime: 2023-01-26T23:22:59Z\n",
      "Lead_ProspectID: 5e84c78f-6438-4d91-aa96-b492f7e91029 Lead_Source: NewLeadSource_7 DateTime: 2023-01-28T15:44:28Z\n",
      "Lead_ProspectID: 5e84c78f-6438-4d91-aa96-b492f7e91029 Lead_Source: NewLeadSource_2 DateTime: 2023-01-28T21:09:02Z\n"
     ]
    }
   ],
   "source": [
    "# Sort records from Athena Query by lead_eventtime column\n",
    "sort_athena_df = athena_results_df.sort_values(by='lead_eventtime', axis=0, ascending=True, inplace=False)\n",
    "\n",
    "for idx, row in sort_athena_df.iterrows():\n",
    "    lead_rec_id = row['lead_prospectid']\n",
    "    lead_source = row['leadsource']\n",
    "    datetime_str = row['lead_eventtime']\n",
    "    print(f'Lead_ProspectID: {lead_rec_id} Lead_Source: {lead_source} DateTime: {datetime_str}')"
   ]
  },
  {
   "cell_type": "markdown",
   "metadata": {},
   "source": [
    "#### Create Target Feature Group from Dataframe"
   ]
  },
  {
   "cell_type": "code",
   "execution_count": 37,
   "metadata": {
    "tags": []
   },
   "outputs": [],
   "source": [
    "# Create Feature Group:\n",
    "# Note: the target_name becomes the name of the FeatureGroup, and can be changed by user\n",
    "\n",
    "target_name = \"off-sdk-fg-webmarketing\"\n",
    "\n",
    "target_fg = FeatureGroup(name=target_name, sagemaker_session=feature_store_session)"
   ]
  },
  {
   "cell_type": "code",
   "execution_count": 38,
   "metadata": {
    "tags": []
   },
   "outputs": [
    {
     "name": "stdout",
     "output_type": "stream",
     "text": [
      "Column names: Index(['Web_ProspectID', 'LastCampaignActivity', 'PageViewsPerVisit',\n",
      "       'TotalTimeOnWebsite', 'TotalWebVisits', 'AttendedMarketingEvent',\n",
      "       'OrganicSearch', 'ViewedAdvertisement', 'Web_EventTime'],\n",
      "      dtype='object')\n"
     ]
    }
   ],
   "source": [
    "# Create target Dataframe by using Pandas to read CSV file \n",
    "target_data_df = pd.read_csv(\"./data/WebMarketingData.csv\")\n",
    "\n",
    "# Event time type should be either Fractional(Unix timestamp in seconds) or String (ISO-8601 format) type\n",
    "target_data_df['Web_EventTime'] = df_timestamps['Timestamp']\n",
    "\n",
    "# Verify column names for WebMarketing dataset, with Primary Key 'Web_ProspectID'\n",
    "print(f'Column names: {target_data_df.columns}')"
   ]
  },
  {
   "cell_type": "code",
   "execution_count": 39,
   "metadata": {
    "tags": []
   },
   "outputs": [
    {
     "data": {
      "text/html": [
       "<div>\n",
       "<style scoped>\n",
       "    .dataframe tbody tr th:only-of-type {\n",
       "        vertical-align: middle;\n",
       "    }\n",
       "\n",
       "    .dataframe tbody tr th {\n",
       "        vertical-align: top;\n",
       "    }\n",
       "\n",
       "    .dataframe thead th {\n",
       "        text-align: right;\n",
       "    }\n",
       "</style>\n",
       "<table border=\"1\" class=\"dataframe\">\n",
       "  <thead>\n",
       "    <tr style=\"text-align: right;\">\n",
       "      <th></th>\n",
       "      <th>Web_ProspectID</th>\n",
       "      <th>LastCampaignActivity</th>\n",
       "      <th>PageViewsPerVisit</th>\n",
       "      <th>TotalTimeOnWebsite</th>\n",
       "      <th>TotalWebVisits</th>\n",
       "      <th>AttendedMarketingEvent</th>\n",
       "      <th>OrganicSearch</th>\n",
       "      <th>ViewedAdvertisement</th>\n",
       "      <th>Web_EventTime</th>\n",
       "    </tr>\n",
       "  </thead>\n",
       "  <tbody>\n",
       "    <tr>\n",
       "      <th>0</th>\n",
       "      <td>5f974944-eee6-414f-8bd3-7c22697404ca</td>\n",
       "      <td>Event RSVP</td>\n",
       "      <td>6.342099</td>\n",
       "      <td>102</td>\n",
       "      <td>7</td>\n",
       "      <td>DidNot</td>\n",
       "      <td>Y</td>\n",
       "      <td>Y</td>\n",
       "      <td>2022-05-10T08:46:14Z</td>\n",
       "    </tr>\n",
       "    <tr>\n",
       "      <th>1</th>\n",
       "      <td>5e84c78f-6438-4d91-aa96-b492f7e91029</td>\n",
       "      <td>DownloadedMaterial</td>\n",
       "      <td>6.393732</td>\n",
       "      <td>125</td>\n",
       "      <td>7</td>\n",
       "      <td>DidNot</td>\n",
       "      <td>Y</td>\n",
       "      <td>N</td>\n",
       "      <td>2022-02-15T21:47:11Z</td>\n",
       "    </tr>\n",
       "    <tr>\n",
       "      <th>2</th>\n",
       "      <td>38fab8b5-fdbf-4171-b7e2-2a99355a425e</td>\n",
       "      <td>Event RSVP</td>\n",
       "      <td>5.477250</td>\n",
       "      <td>126</td>\n",
       "      <td>10</td>\n",
       "      <td>DidNot</td>\n",
       "      <td>Y</td>\n",
       "      <td>N</td>\n",
       "      <td>2022-01-28T06:28:42Z</td>\n",
       "    </tr>\n",
       "    <tr>\n",
       "      <th>3</th>\n",
       "      <td>cb9a6f52-a6b5-4be7-8743-9032a0d73884</td>\n",
       "      <td>DownloadedMaterial</td>\n",
       "      <td>7.073818</td>\n",
       "      <td>138</td>\n",
       "      <td>14</td>\n",
       "      <td>DidNot</td>\n",
       "      <td>N</td>\n",
       "      <td>Y</td>\n",
       "      <td>2022-04-24T11:44:12Z</td>\n",
       "    </tr>\n",
       "    <tr>\n",
       "      <th>4</th>\n",
       "      <td>43afcad1-5292-4bd4-9df8-1bfa688e301e</td>\n",
       "      <td>Open Email</td>\n",
       "      <td>5.099326</td>\n",
       "      <td>92</td>\n",
       "      <td>17</td>\n",
       "      <td>DidNot</td>\n",
       "      <td>Y</td>\n",
       "      <td>Y</td>\n",
       "      <td>2022-08-06T07:49:31Z</td>\n",
       "    </tr>\n",
       "  </tbody>\n",
       "</table>\n",
       "</div>"
      ],
      "text/plain": [
       "                         Web_ProspectID LastCampaignActivity  \\\n",
       "0  5f974944-eee6-414f-8bd3-7c22697404ca           Event RSVP   \n",
       "1  5e84c78f-6438-4d91-aa96-b492f7e91029   DownloadedMaterial   \n",
       "2  38fab8b5-fdbf-4171-b7e2-2a99355a425e           Event RSVP   \n",
       "3  cb9a6f52-a6b5-4be7-8743-9032a0d73884   DownloadedMaterial   \n",
       "4  43afcad1-5292-4bd4-9df8-1bfa688e301e           Open Email   \n",
       "\n",
       "   PageViewsPerVisit  TotalTimeOnWebsite  TotalWebVisits  \\\n",
       "0           6.342099                 102               7   \n",
       "1           6.393732                 125               7   \n",
       "2           5.477250                 126              10   \n",
       "3           7.073818                 138              14   \n",
       "4           5.099326                  92              17   \n",
       "\n",
       "  AttendedMarketingEvent OrganicSearch ViewedAdvertisement  \\\n",
       "0                 DidNot             Y                   Y   \n",
       "1                 DidNot             Y                   N   \n",
       "2                 DidNot             Y                   N   \n",
       "3                 DidNot             N                   Y   \n",
       "4                 DidNot             Y                   Y   \n",
       "\n",
       "          Web_EventTime  \n",
       "0  2022-05-10T08:46:14Z  \n",
       "1  2022-02-15T21:47:11Z  \n",
       "2  2022-01-28T06:28:42Z  \n",
       "3  2022-04-24T11:44:12Z  \n",
       "4  2022-08-06T07:49:31Z  "
      ]
     },
     "execution_count": 39,
     "metadata": {},
     "output_type": "execute_result"
    }
   ],
   "source": [
    "target_fg.load_feature_definitions(data_frame=target_data_df)\n",
    "\n",
    "target_data_df.head()"
   ]
  },
  {
   "cell_type": "code",
   "execution_count": 40,
   "metadata": {
    "tags": []
   },
   "outputs": [
    {
     "data": {
      "text/plain": [
       "{'FeatureGroupArn': 'arn:aws:sagemaker:us-east-1:572539092864:feature-group/off-sdk-fg-webmarketing',\n",
       " 'ResponseMetadata': {'RequestId': '8c84c2a2-d990-42fe-8ba3-976ec86d37b0',\n",
       "  'HTTPStatusCode': 200,\n",
       "  'HTTPHeaders': {'x-amzn-requestid': '8c84c2a2-d990-42fe-8ba3-976ec86d37b0',\n",
       "   'content-type': 'application/x-amz-json-1.1',\n",
       "   'content-length': '100',\n",
       "   'date': 'Tue, 11 Apr 2023 22:58:44 GMT'},\n",
       "  'RetryAttempts': 0}}"
      ]
     },
     "execution_count": 40,
     "metadata": {},
     "output_type": "execute_result"
    }
   ],
   "source": [
    "# Note: we disable the Online Store below, this notebook will focus only on Offline Store\n",
    "\n",
    "target_fg.create(\n",
    "    s3_uri=f\"s3://{s3_bucket_name}/{s3_prefix}\",\n",
    "    record_identifier_name=\"Web_ProspectID\",\n",
    "    event_time_feature_name=\"Web_EventTime\",\n",
    "    role_arn=role,\n",
    "    enable_online_store=True,  # Enable Online store for get_record and put_record\n",
    ")"
   ]
  },
  {
   "cell_type": "markdown",
   "metadata": {},
   "source": [
    "#### Ingest data into target Feature Group"
   ]
  },
  {
   "cell_type": "code",
   "execution_count": 41,
   "metadata": {
    "tags": []
   },
   "outputs": [
    {
     "name": "stdout",
     "output_type": "stream",
     "text": [
      "Waiting for Feature Group Creation\n",
      "Waiting for Feature Group Creation\n",
      "Waiting for Feature Group Creation\n",
      "Waiting for Feature Group Creation\n",
      "FeatureGroup off-sdk-fg-webmarketing successfully created.\n"
     ]
    }
   ],
   "source": [
    "sample_helper.wait_for_feature_group_creation_complete(feature_group=target_fg)"
   ]
  },
  {
   "cell_type": "code",
   "execution_count": 42,
   "metadata": {
    "tags": []
   },
   "outputs": [
    {
     "name": "stdout",
     "output_type": "stream",
     "text": [
      "offline-store-sdk-artifacts-bgnhxvyzds/572539092864/sagemaker/us-east-1/offline-store/off-sdk-fg-webmarketing-1681253924/data\n"
     ]
    }
   ],
   "source": [
    "target_fg_resolved_output_s3_uri = target_fg.describe()[\"OfflineStoreConfig\"][\"S3StorageConfig\"][\"ResolvedOutputS3Uri\"]\n",
    "\n",
    "target_fg_s3_prefix = target_fg_resolved_output_s3_uri.replace(f\"s3://{s3_bucket_name}/\", \"\")\n",
    "print(target_fg_s3_prefix)"
   ]
  },
  {
   "cell_type": "markdown",
   "metadata": {},
   "source": [
    "#### Wait for data ingested into Feature Group to replicate to Offline Store\n",
    "\n",
    "When data is written to a Feature Group (e.g. using `put_record` or `ingest`), it lands in the Online Store initially. Next, this data is replicated to the Offline Store hosted on S3, where it can be queried and loaded for pre-processing or model training. This replication can take anywhere from 5 minutes up to 15 minutes. The wait function below will test and wait for data to appear in the S3 Offline Store.\n"
   ]
  },
  {
   "cell_type": "code",
   "execution_count": 43,
   "metadata": {
    "tags": []
   },
   "outputs": [
    {
     "name": "stdout",
     "output_type": "stream",
     "text": [
      "Polling S3 location for data: offline-store-sdk-artifacts-bgnhxvyzds/572539092864/sagemaker/us-east-1/offline-store/off-sdk-fg-webmarketing-1681253924/data\n",
      "Waiting for data in offline store...\n",
      "Waiting for data in offline store...\n",
      "Waiting for data in offline store...\n",
      "Waiting for data in offline store...\n",
      "Waiting for data in offline store...\n",
      "Data available.\n"
     ]
    }
   ],
   "source": [
    "target_fg.ingest(data_frame=target_data_df, max_workers=3, wait=True)\n",
    "\n",
    "sample_helper.wait_for_feature_group_data_ingest(s3_bucket_name, target_fg_s3_prefix)"
   ]
  },
  {
   "cell_type": "markdown",
   "metadata": {},
   "source": [
    "#### We read a sample record (index 9999) and write a new version\n",
    "\n",
    "This updated record will have a later `write_time` than the original record from the table. In the create_dataset `as_of` section below, we will use a carefully constructed datetime (cut-off time) to exclude this later version of the record from our dataframe."
   ]
  },
  {
   "cell_type": "code",
   "execution_count": 44,
   "metadata": {
    "tags": []
   },
   "outputs": [
    {
     "name": "stdout",
     "output_type": "stream",
     "text": [
      "Sample record ID[9999]: 9749edb2-1b8a-47c2-9810-ad001d9e740f\n"
     ]
    }
   ],
   "source": [
    "sample_rec9999 = base_data_df.iloc[9999]\n",
    "\n",
    "record_id9999 = sample_rec9999['Lead_ProspectID']\n",
    "print(f'Sample record ID[9999]: {record_id9999}')"
   ]
  },
  {
   "cell_type": "markdown",
   "metadata": {},
   "source": [
    "#### Use `get_record` to retrieve record and `put_record` to write new version"
   ]
  },
  {
   "cell_type": "code",
   "execution_count": 45,
   "metadata": {
    "tags": []
   },
   "outputs": [
    {
     "name": "stdout",
     "output_type": "stream",
     "text": [
      "Using record ID: 9749edb2-1b8a-47c2-9810-ad001d9e740f\n",
      "[{'FeatureName': 'Web_ProspectID', 'ValueAsString': '9749edb2-1b8a-47c2-9810-ad001d9e740f'}, {'FeatureName': 'LastCampaignActivity', 'ValueAsString': 'Event RSVP'}, {'FeatureName': 'PageViewsPerVisit', 'ValueAsString': '4.446905074'}, {'FeatureName': 'TotalTimeOnWebsite', 'ValueAsString': '121'}, {'FeatureName': 'TotalWebVisits', 'ValueAsString': '12'}, {'FeatureName': 'AttendedMarketingEvent', 'ValueAsString': 'Attended'}, {'FeatureName': 'OrganicSearch', 'ValueAsString': 'Y'}, {'FeatureName': 'ViewedAdvertisement', 'ValueAsString': 'N'}, {'FeatureName': 'Web_EventTime', 'ValueAsString': '2022-09-08T09:30:38Z'}]\n",
      "2023-04-11T23:04:45Z\n"
     ]
    }
   ],
   "source": [
    "print(f'Using record ID: {record_id9999}')\n",
    "colnames = list(target_data_df.columns.values)\n",
    "\n",
    "rec = target_fg.get_record(record_id9999, colnames)\n",
    "print(rec)\n",
    "\n",
    "now_ts = int(round(time.time()))\n",
    "now_iso8601 = sample_helper.convert_timestamp_to_iso8601(now_ts)\n",
    "print(now_iso8601)"
   ]
  },
  {
   "cell_type": "markdown",
   "metadata": {},
   "source": [
    "Notice we also update the `TotalWebVisits` field to `9999` to make it easy to identify this additional record in the results below."
   ]
  },
  {
   "cell_type": "code",
   "execution_count": 46,
   "metadata": {
    "tags": []
   },
   "outputs": [
    {
     "name": "stdout",
     "output_type": "stream",
     "text": [
      "[{'FeatureName': 'Web_ProspectID', 'ValueAsString': '9749edb2-1b8a-47c2-9810-ad001d9e740f'}, {'FeatureName': 'LastCampaignActivity', 'ValueAsString': 'Event RSVP'}, {'FeatureName': 'PageViewsPerVisit', 'ValueAsString': '4.446905074'}, {'FeatureName': 'TotalTimeOnWebsite', 'ValueAsString': '121'}, {'FeatureName': 'TotalWebVisits', 'ValueAsString': '9999'}, {'FeatureName': 'AttendedMarketingEvent', 'ValueAsString': 'Attended'}, {'FeatureName': 'OrganicSearch', 'ValueAsString': 'Y'}, {'FeatureName': 'ViewedAdvertisement', 'ValueAsString': 'N'}, {'FeatureName': 'Web_EventTime', 'ValueAsString': '2023-04-11T23:04:45Z'}]\n"
     ]
    }
   ],
   "source": [
    "updated_rec = []\n",
    "for kv_field in rec:\n",
    "    if kv_field['FeatureName'] == 'Web_EventTime':\n",
    "        kv_field['ValueAsString'] = now_iso8601\n",
    "    if kv_field['FeatureName'] == 'TotalWebVisits':\n",
    "        kv_field['ValueAsString'] = '9999'\n",
    "    updated_rec.append(kv_field)\n",
    "\n",
    "print(updated_rec)"
   ]
  },
  {
   "cell_type": "code",
   "execution_count": 47,
   "metadata": {
    "tags": []
   },
   "outputs": [
    {
     "data": {
      "text/plain": [
       "{'ResponseMetadata': {'RequestId': '1cc831a4-12a2-4b88-af79-eb0d886d822b',\n",
       "  'HTTPStatusCode': 200,\n",
       "  'HTTPHeaders': {'x-amzn-requestid': '1cc831a4-12a2-4b88-af79-eb0d886d822b',\n",
       "   'content-type': 'application/json',\n",
       "   'content-length': '0',\n",
       "   'date': 'Tue, 11 Apr 2023 23:04:44 GMT'},\n",
       "  'RetryAttempts': 0}}"
      ]
     },
     "execution_count": 47,
     "metadata": {},
     "output_type": "execute_result"
    }
   ],
   "source": [
    "# Write updated record\n",
    "featurestore_runtime.put_record(FeatureGroupName=target_fg.name, Record=updated_rec)"
   ]
  },
  {
   "cell_type": "markdown",
   "metadata": {},
   "source": [
    "## Create Dataset from Joining two Feature Groups"
   ]
  },
  {
   "cell_type": "markdown",
   "metadata": {},
   "source": [
    "Below, we use the `FeatureStore.create_dataset` and `with_feature_group` methods to build a dataset by joining two existing feature groups. To create the dataset, we provide the feature group references, the join key (referred to in the `target_feature_name_in_base` argument), and the set of features to include in the results."
   ]
  },
  {
   "cell_type": "code",
   "execution_count": 48,
   "metadata": {
    "tags": []
   },
   "outputs": [],
   "source": [
    "# Create dataset by joining two Feature Groups \n",
    "\n",
    "join_builder = feature_store.create_dataset(\n",
    "\tbase=base_fg,\n",
    "\toutput_path=f\"s3://{s3_bucket_name}/{s3_prefix}/dataset_query_results\"\n",
    ").with_feature_group(\n",
    "        feature_group=target_fg, \n",
    "        target_feature_name_in_base=\"Lead_ProspectID\", \n",
    "        included_feature_names=[\"Web_ProspectID\", 'LastCampaignActivity', 'PageViewsPerVisit',\n",
    "       'TotalTimeOnWebsite', 'TotalWebVisits', 'AttendedMarketingEvent',\n",
    "       'OrganicSearch', 'ViewedAdvertisement']\n",
    ")"
   ]
  },
  {
   "cell_type": "code",
   "execution_count": 49,
   "metadata": {
    "tags": []
   },
   "outputs": [],
   "source": [
    "# Use the builder to generate a Pandas Dataframe\n",
    "join_df, join_query_str = join_builder.to_dataframe()"
   ]
  },
  {
   "cell_type": "markdown",
   "metadata": {},
   "source": [
    "#### Notice that the joined result set includes columns from both the Leads and WebMarketing datasets\n",
    "\n",
    "The DatasetBuilder functions will modify feature names as needed to avoid name collisions. For example, notice that features from the WebMarketing feature group below are appended, such as `Web_ProspectID.1`."
   ]
  },
  {
   "cell_type": "code",
   "execution_count": 50,
   "metadata": {
    "tags": []
   },
   "outputs": [
    {
     "name": "stdout",
     "output_type": "stream",
     "text": [
      "Index(['LeadSource', 'JobRole', 'ContactNotes', 'LeadProfile', 'UsedPromo',\n",
      "       'Region', 'Converted', 'Lead_ProspectID', 'Lead_EventTime',\n",
      "       'Web_ProspectID.1', 'LastCampaignActivity.1', 'PageViewsPerVisit.1',\n",
      "       'TotalTimeOnWebsite.1', 'TotalWebVisits.1', 'AttendedMarketingEvent.1',\n",
      "       'OrganicSearch.1', 'ViewedAdvertisement.1'],\n",
      "      dtype='object')\n",
      "(10020, 17)\n"
     ]
    },
    {
     "data": {
      "text/html": [
       "<div>\n",
       "<style scoped>\n",
       "    .dataframe tbody tr th:only-of-type {\n",
       "        vertical-align: middle;\n",
       "    }\n",
       "\n",
       "    .dataframe tbody tr th {\n",
       "        vertical-align: top;\n",
       "    }\n",
       "\n",
       "    .dataframe thead th {\n",
       "        text-align: right;\n",
       "    }\n",
       "</style>\n",
       "<table border=\"1\" class=\"dataframe\">\n",
       "  <thead>\n",
       "    <tr style=\"text-align: right;\">\n",
       "      <th></th>\n",
       "      <th>LeadSource</th>\n",
       "      <th>JobRole</th>\n",
       "      <th>ContactNotes</th>\n",
       "      <th>LeadProfile</th>\n",
       "      <th>UsedPromo</th>\n",
       "      <th>Region</th>\n",
       "      <th>Converted</th>\n",
       "      <th>Lead_ProspectID</th>\n",
       "      <th>Lead_EventTime</th>\n",
       "      <th>Web_ProspectID.1</th>\n",
       "      <th>LastCampaignActivity.1</th>\n",
       "      <th>PageViewsPerVisit.1</th>\n",
       "      <th>TotalTimeOnWebsite.1</th>\n",
       "      <th>TotalWebVisits.1</th>\n",
       "      <th>AttendedMarketingEvent.1</th>\n",
       "      <th>OrganicSearch.1</th>\n",
       "      <th>ViewedAdvertisement.1</th>\n",
       "    </tr>\n",
       "  </thead>\n",
       "  <tbody>\n",
       "    <tr>\n",
       "      <th>0</th>\n",
       "      <td>Event</td>\n",
       "      <td>HR</td>\n",
       "      <td>FeatureRequest</td>\n",
       "      <td>Small</td>\n",
       "      <td>UsedPromo</td>\n",
       "      <td>NAMER</td>\n",
       "      <td>0</td>\n",
       "      <td>70725913-ee3c-43ad-8265-1d09c91048e5</td>\n",
       "      <td>2022-07-01T12:54:23Z</td>\n",
       "      <td>70725913-ee3c-43ad-8265-1d09c91048e5</td>\n",
       "      <td>DownloadedMaterial</td>\n",
       "      <td>6.380803</td>\n",
       "      <td>174</td>\n",
       "      <td>14</td>\n",
       "      <td>DidNot</td>\n",
       "      <td>Y</td>\n",
       "      <td>N</td>\n",
       "    </tr>\n",
       "    <tr>\n",
       "      <th>1</th>\n",
       "      <td>Referral</td>\n",
       "      <td>Engineering</td>\n",
       "      <td>FeatureRequest</td>\n",
       "      <td>Small</td>\n",
       "      <td>NoPromo</td>\n",
       "      <td>NAMER</td>\n",
       "      <td>0</td>\n",
       "      <td>dc5886e8-a581-4506-b537-356784ac29f5</td>\n",
       "      <td>2022-10-22T11:06:52Z</td>\n",
       "      <td>dc5886e8-a581-4506-b537-356784ac29f5</td>\n",
       "      <td>DownloadedMaterial</td>\n",
       "      <td>6.769998</td>\n",
       "      <td>129</td>\n",
       "      <td>12</td>\n",
       "      <td>Attended</td>\n",
       "      <td>Y</td>\n",
       "      <td>N</td>\n",
       "    </tr>\n",
       "    <tr>\n",
       "      <th>2</th>\n",
       "      <td>Referral</td>\n",
       "      <td>Finance</td>\n",
       "      <td>NeedsCaseStudy</td>\n",
       "      <td>Large</td>\n",
       "      <td>UsedPromo</td>\n",
       "      <td>LATAM</td>\n",
       "      <td>1</td>\n",
       "      <td>6923bcfe-6da6-495a-8b79-ae455b54b033</td>\n",
       "      <td>2022-08-31T14:32:47Z</td>\n",
       "      <td>6923bcfe-6da6-495a-8b79-ae455b54b033</td>\n",
       "      <td>Event RSVP</td>\n",
       "      <td>6.433224</td>\n",
       "      <td>131</td>\n",
       "      <td>5</td>\n",
       "      <td>DidNot</td>\n",
       "      <td>N</td>\n",
       "      <td>Y</td>\n",
       "    </tr>\n",
       "    <tr>\n",
       "      <th>3</th>\n",
       "      <td>Cold Uutbound</td>\n",
       "      <td>Marketing</td>\n",
       "      <td>ContentPresentation</td>\n",
       "      <td>Medium</td>\n",
       "      <td>NoPromo</td>\n",
       "      <td>LATAM</td>\n",
       "      <td>0</td>\n",
       "      <td>c64c586a-f27b-468f-be98-5a6df002e5fd</td>\n",
       "      <td>2022-07-13T09:13:48Z</td>\n",
       "      <td>c64c586a-f27b-468f-be98-5a6df002e5fd</td>\n",
       "      <td>Event RSVP</td>\n",
       "      <td>8.140955</td>\n",
       "      <td>137</td>\n",
       "      <td>12</td>\n",
       "      <td>DidNot</td>\n",
       "      <td>N</td>\n",
       "      <td>N</td>\n",
       "    </tr>\n",
       "    <tr>\n",
       "      <th>4</th>\n",
       "      <td>Digital Ad</td>\n",
       "      <td>Engineering</td>\n",
       "      <td>NeedsTraining</td>\n",
       "      <td>Small</td>\n",
       "      <td>UsedPromo</td>\n",
       "      <td>EMEA</td>\n",
       "      <td>1</td>\n",
       "      <td>c44da86f-7bfd-466d-802f-0d17b82136be</td>\n",
       "      <td>2022-01-31T11:06:43Z</td>\n",
       "      <td>c44da86f-7bfd-466d-802f-0d17b82136be</td>\n",
       "      <td>Open Email</td>\n",
       "      <td>7.337005</td>\n",
       "      <td>155</td>\n",
       "      <td>11</td>\n",
       "      <td>Attended</td>\n",
       "      <td>N</td>\n",
       "      <td>N</td>\n",
       "    </tr>\n",
       "  </tbody>\n",
       "</table>\n",
       "</div>"
      ],
      "text/plain": [
       "      LeadSource      JobRole         ContactNotes LeadProfile  UsedPromo  \\\n",
       "0          Event           HR       FeatureRequest       Small  UsedPromo   \n",
       "1       Referral  Engineering       FeatureRequest       Small    NoPromo   \n",
       "2       Referral      Finance       NeedsCaseStudy       Large  UsedPromo   \n",
       "3  Cold Uutbound    Marketing  ContentPresentation      Medium    NoPromo   \n",
       "4     Digital Ad  Engineering        NeedsTraining       Small  UsedPromo   \n",
       "\n",
       "  Region  Converted                       Lead_ProspectID  \\\n",
       "0  NAMER          0  70725913-ee3c-43ad-8265-1d09c91048e5   \n",
       "1  NAMER          0  dc5886e8-a581-4506-b537-356784ac29f5   \n",
       "2  LATAM          1  6923bcfe-6da6-495a-8b79-ae455b54b033   \n",
       "3  LATAM          0  c64c586a-f27b-468f-be98-5a6df002e5fd   \n",
       "4   EMEA          1  c44da86f-7bfd-466d-802f-0d17b82136be   \n",
       "\n",
       "         Lead_EventTime                      Web_ProspectID.1  \\\n",
       "0  2022-07-01T12:54:23Z  70725913-ee3c-43ad-8265-1d09c91048e5   \n",
       "1  2022-10-22T11:06:52Z  dc5886e8-a581-4506-b537-356784ac29f5   \n",
       "2  2022-08-31T14:32:47Z  6923bcfe-6da6-495a-8b79-ae455b54b033   \n",
       "3  2022-07-13T09:13:48Z  c64c586a-f27b-468f-be98-5a6df002e5fd   \n",
       "4  2022-01-31T11:06:43Z  c44da86f-7bfd-466d-802f-0d17b82136be   \n",
       "\n",
       "  LastCampaignActivity.1  PageViewsPerVisit.1  TotalTimeOnWebsite.1  \\\n",
       "0     DownloadedMaterial             6.380803                   174   \n",
       "1     DownloadedMaterial             6.769998                   129   \n",
       "2             Event RSVP             6.433224                   131   \n",
       "3             Event RSVP             8.140955                   137   \n",
       "4             Open Email             7.337005                   155   \n",
       "\n",
       "   TotalWebVisits.1 AttendedMarketingEvent.1 OrganicSearch.1  \\\n",
       "0                14                   DidNot               Y   \n",
       "1                12                 Attended               Y   \n",
       "2                 5                   DidNot               N   \n",
       "3                12                   DidNot               N   \n",
       "4                11                 Attended               N   \n",
       "\n",
       "  ViewedAdvertisement.1  \n",
       "0                     N  \n",
       "1                     N  \n",
       "2                     Y  \n",
       "3                     N  \n",
       "4                     N  "
      ]
     },
     "execution_count": 50,
     "metadata": {},
     "output_type": "execute_result"
    }
   ],
   "source": [
    "# Confirm list of columns and dimensions in the resultset\n",
    "print(join_df.columns)\n",
    "print(join_df.shape)\n",
    "\n",
    "# Display few records from join dataframe\n",
    "join_df.head(5)"
   ]
  },
  {
   "cell_type": "markdown",
   "metadata": {},
   "source": [
    "### Write results to S3 as CSV file\n",
    "\n",
    "To validate the join operation from the `with_feature_group` call above, we can use the builder object method `to_csv_file` to write the results to S3. We can download this CSV file to verify that the join was performed correctly."
   ]
  },
  {
   "cell_type": "code",
   "execution_count": 51,
   "metadata": {
    "tags": []
   },
   "outputs": [
    {
     "name": "stdout",
     "output_type": "stream",
     "text": [
      "s3://sagemaker-us-east-1-572539092864/offline-store-sdk-artifacts-bgnhxvyzds/dataset_query_results/025b04c7-1b69-4644-ba80-74589f84bcae.csv\n"
     ]
    }
   ],
   "source": [
    "# Returns: tuple (CSV file, SQL query)\n",
    "s3_file, s3_query_str = join_builder.to_csv_file()\n",
    "print(s3_file)"
   ]
  },
  {
   "cell_type": "markdown",
   "metadata": {},
   "source": [
    "## Create Dataset using Event Time window\n",
    "\n",
    "Setup the Event Time range window by converting Unix epoch times to Python datetimes. The `with_event_time_range` method allows the user to specify a time range (start and end) to apply to the WHERE clause of the query, thus providing a time constraint to records returned in the result set. "
   ]
  },
  {
   "cell_type": "code",
   "execution_count": 52,
   "metadata": {
    "tags": []
   },
   "outputs": [
    {
     "name": "stdout",
     "output_type": "stream",
     "text": [
      "Setting retrieval time window: 2022-07-01 00:00:00 until 2022-07-02 00:00:00\n"
     ]
    }
   ],
   "source": [
    "# Setup Event Time window: seconds of unix epoch time\n",
    "\n",
    "# Start at 07/01/2022 and set time window to one day\n",
    "start_ts = 1656633600\n",
    "time_window = 86400\n",
    "\n",
    "# Using hard-coded timestamps from dataset, then adding time window\n",
    "datetime_start = datetime.fromtimestamp(start_ts)\n",
    "datetime_end = datetime.fromtimestamp(start_ts+time_window)\n",
    "print(f'Setting retrieval time window: {datetime_start} until {datetime_end}')\n"
   ]
  },
  {
   "cell_type": "code",
   "execution_count": 53,
   "metadata": {
    "tags": []
   },
   "outputs": [],
   "source": [
    "# Create dataset with specified event_time window\n",
    "\n",
    "time_window_builder = feature_store.create_dataset(\n",
    "\tbase=base_fg, \n",
    "\toutput_path=f\"s3://{s3_bucket_name}/{s3_prefix}/dataset_query_results\"\n",
    ").with_feature_group(\n",
    "        feature_group=target_fg, \n",
    "        target_feature_name_in_base=\"Lead_ProspectID\", \n",
    "        included_feature_names=[\"Web_ProspectID\", 'LastCampaignActivity', 'PageViewsPerVisit',\n",
    "       'TotalTimeOnWebsite', 'TotalWebVisits', 'AttendedMarketingEvent',\n",
    "       'OrganicSearch', 'ViewedAdvertisement']\n",
    ").with_event_time_range(\n",
    "        starting_timestamp=datetime_start, \n",
    "        ending_timestamp=datetime_end\n",
    ")\n"
   ]
  },
  {
   "cell_type": "code",
   "execution_count": 54,
   "metadata": {
    "tags": []
   },
   "outputs": [
    {
     "name": "stdout",
     "output_type": "stream",
     "text": [
      "Index(['LeadSource', 'JobRole', 'ContactNotes', 'LeadProfile', 'UsedPromo',\n",
      "       'Region', 'Converted', 'Lead_ProspectID', 'Lead_EventTime',\n",
      "       'Web_ProspectID.1', 'LastCampaignActivity.1', 'PageViewsPerVisit.1',\n",
      "       'TotalTimeOnWebsite.1', 'TotalWebVisits.1', 'AttendedMarketingEvent.1',\n",
      "       'OrganicSearch.1', 'ViewedAdvertisement.1'],\n",
      "      dtype='object')\n",
      "(29, 17)\n"
     ]
    }
   ],
   "source": [
    "# Export to dataframe\n",
    "time_window_df, time_window_query_str = time_window_builder.to_dataframe()\n",
    "\n",
    "# Confirm list of columns in the result-set\n",
    "print(time_window_df.columns)\n",
    "\n",
    "# Confirm that only subset of records in result-set due to event_time window constraint\n",
    "print(time_window_df.shape)"
   ]
  },
  {
   "cell_type": "code",
   "execution_count": 55,
   "metadata": {
    "tags": []
   },
   "outputs": [
    {
     "data": {
      "text/html": [
       "<div>\n",
       "<style scoped>\n",
       "    .dataframe tbody tr th:only-of-type {\n",
       "        vertical-align: middle;\n",
       "    }\n",
       "\n",
       "    .dataframe tbody tr th {\n",
       "        vertical-align: top;\n",
       "    }\n",
       "\n",
       "    .dataframe thead th {\n",
       "        text-align: right;\n",
       "    }\n",
       "</style>\n",
       "<table border=\"1\" class=\"dataframe\">\n",
       "  <thead>\n",
       "    <tr style=\"text-align: right;\">\n",
       "      <th></th>\n",
       "      <th>LeadSource</th>\n",
       "      <th>JobRole</th>\n",
       "      <th>ContactNotes</th>\n",
       "      <th>LeadProfile</th>\n",
       "      <th>UsedPromo</th>\n",
       "      <th>Region</th>\n",
       "      <th>Converted</th>\n",
       "      <th>Lead_ProspectID</th>\n",
       "      <th>Lead_EventTime</th>\n",
       "      <th>Web_ProspectID.1</th>\n",
       "      <th>LastCampaignActivity.1</th>\n",
       "      <th>PageViewsPerVisit.1</th>\n",
       "      <th>TotalTimeOnWebsite.1</th>\n",
       "      <th>TotalWebVisits.1</th>\n",
       "      <th>AttendedMarketingEvent.1</th>\n",
       "      <th>OrganicSearch.1</th>\n",
       "      <th>ViewedAdvertisement.1</th>\n",
       "    </tr>\n",
       "  </thead>\n",
       "  <tbody>\n",
       "    <tr>\n",
       "      <th>0</th>\n",
       "      <td>Organic</td>\n",
       "      <td>Marketing</td>\n",
       "      <td>FeatureRequest</td>\n",
       "      <td>Medium</td>\n",
       "      <td>UsedPromo</td>\n",
       "      <td>NAMER</td>\n",
       "      <td>0</td>\n",
       "      <td>6b31d68e-fc11-4431-b8ea-622bf2f59ac8</td>\n",
       "      <td>2022-07-01T05:14:51Z</td>\n",
       "      <td>6b31d68e-fc11-4431-b8ea-622bf2f59ac8</td>\n",
       "      <td>Open Email</td>\n",
       "      <td>4.442457</td>\n",
       "      <td>121</td>\n",
       "      <td>8</td>\n",
       "      <td>DidNot</td>\n",
       "      <td>N</td>\n",
       "      <td>N</td>\n",
       "    </tr>\n",
       "    <tr>\n",
       "      <th>1</th>\n",
       "      <td>Referral</td>\n",
       "      <td>Sales</td>\n",
       "      <td>ContentPresentation</td>\n",
       "      <td>Large</td>\n",
       "      <td>NoPromo</td>\n",
       "      <td>NAMER</td>\n",
       "      <td>1</td>\n",
       "      <td>dad79006-a4c3-486d-a657-86f033183f40</td>\n",
       "      <td>2022-07-01T14:40:44Z</td>\n",
       "      <td>dad79006-a4c3-486d-a657-86f033183f40</td>\n",
       "      <td>Event RSVP</td>\n",
       "      <td>5.454591</td>\n",
       "      <td>78</td>\n",
       "      <td>7</td>\n",
       "      <td>Attended</td>\n",
       "      <td>N</td>\n",
       "      <td>N</td>\n",
       "    </tr>\n",
       "    <tr>\n",
       "      <th>2</th>\n",
       "      <td>Referral</td>\n",
       "      <td>Marketing</td>\n",
       "      <td>NeedsCaseStudy</td>\n",
       "      <td>Small</td>\n",
       "      <td>NoPromo</td>\n",
       "      <td>EMEA</td>\n",
       "      <td>1</td>\n",
       "      <td>39baf73f-66bf-4590-8625-f526355a2c27</td>\n",
       "      <td>2022-07-01T15:57:38Z</td>\n",
       "      <td>39baf73f-66bf-4590-8625-f526355a2c27</td>\n",
       "      <td>Web Visit</td>\n",
       "      <td>8.852659</td>\n",
       "      <td>126</td>\n",
       "      <td>11</td>\n",
       "      <td>Attended</td>\n",
       "      <td>Y</td>\n",
       "      <td>N</td>\n",
       "    </tr>\n",
       "    <tr>\n",
       "      <th>3</th>\n",
       "      <td>Cold Uutbound</td>\n",
       "      <td>Operations</td>\n",
       "      <td>FeatureRequest</td>\n",
       "      <td>Medium</td>\n",
       "      <td>NoPromo</td>\n",
       "      <td>APAC</td>\n",
       "      <td>0</td>\n",
       "      <td>b72607c1-e5a2-4e90-9d87-5d866f9300b3</td>\n",
       "      <td>2022-07-01T14:21:36Z</td>\n",
       "      <td>b72607c1-e5a2-4e90-9d87-5d866f9300b3</td>\n",
       "      <td>Event RSVP</td>\n",
       "      <td>6.322470</td>\n",
       "      <td>100</td>\n",
       "      <td>8</td>\n",
       "      <td>Attended</td>\n",
       "      <td>Y</td>\n",
       "      <td>Y</td>\n",
       "    </tr>\n",
       "    <tr>\n",
       "      <th>4</th>\n",
       "      <td>Cold Uutbound</td>\n",
       "      <td>Marketing</td>\n",
       "      <td>NeedsTraining</td>\n",
       "      <td>Medium</td>\n",
       "      <td>UsedPromo</td>\n",
       "      <td>LATAM</td>\n",
       "      <td>1</td>\n",
       "      <td>07b3673c-dd20-4161-9315-9f0f62ed39d8</td>\n",
       "      <td>2022-07-01T02:32:12Z</td>\n",
       "      <td>07b3673c-dd20-4161-9315-9f0f62ed39d8</td>\n",
       "      <td>Web Visit</td>\n",
       "      <td>7.497766</td>\n",
       "      <td>155</td>\n",
       "      <td>12</td>\n",
       "      <td>DidNot</td>\n",
       "      <td>Y</td>\n",
       "      <td>N</td>\n",
       "    </tr>\n",
       "  </tbody>\n",
       "</table>\n",
       "</div>"
      ],
      "text/plain": [
       "      LeadSource     JobRole         ContactNotes LeadProfile  UsedPromo  \\\n",
       "0        Organic   Marketing       FeatureRequest      Medium  UsedPromo   \n",
       "1       Referral       Sales  ContentPresentation       Large    NoPromo   \n",
       "2       Referral   Marketing       NeedsCaseStudy       Small    NoPromo   \n",
       "3  Cold Uutbound  Operations       FeatureRequest      Medium    NoPromo   \n",
       "4  Cold Uutbound   Marketing        NeedsTraining      Medium  UsedPromo   \n",
       "\n",
       "  Region  Converted                       Lead_ProspectID  \\\n",
       "0  NAMER          0  6b31d68e-fc11-4431-b8ea-622bf2f59ac8   \n",
       "1  NAMER          1  dad79006-a4c3-486d-a657-86f033183f40   \n",
       "2   EMEA          1  39baf73f-66bf-4590-8625-f526355a2c27   \n",
       "3   APAC          0  b72607c1-e5a2-4e90-9d87-5d866f9300b3   \n",
       "4  LATAM          1  07b3673c-dd20-4161-9315-9f0f62ed39d8   \n",
       "\n",
       "         Lead_EventTime                      Web_ProspectID.1  \\\n",
       "0  2022-07-01T05:14:51Z  6b31d68e-fc11-4431-b8ea-622bf2f59ac8   \n",
       "1  2022-07-01T14:40:44Z  dad79006-a4c3-486d-a657-86f033183f40   \n",
       "2  2022-07-01T15:57:38Z  39baf73f-66bf-4590-8625-f526355a2c27   \n",
       "3  2022-07-01T14:21:36Z  b72607c1-e5a2-4e90-9d87-5d866f9300b3   \n",
       "4  2022-07-01T02:32:12Z  07b3673c-dd20-4161-9315-9f0f62ed39d8   \n",
       "\n",
       "  LastCampaignActivity.1  PageViewsPerVisit.1  TotalTimeOnWebsite.1  \\\n",
       "0             Open Email             4.442457                   121   \n",
       "1             Event RSVP             5.454591                    78   \n",
       "2              Web Visit             8.852659                   126   \n",
       "3             Event RSVP             6.322470                   100   \n",
       "4              Web Visit             7.497766                   155   \n",
       "\n",
       "   TotalWebVisits.1 AttendedMarketingEvent.1 OrganicSearch.1  \\\n",
       "0                 8                   DidNot               N   \n",
       "1                 7                 Attended               N   \n",
       "2                11                 Attended               Y   \n",
       "3                 8                 Attended               Y   \n",
       "4                12                   DidNot               Y   \n",
       "\n",
       "  ViewedAdvertisement.1  \n",
       "0                     N  \n",
       "1                     N  \n",
       "2                     N  \n",
       "3                     Y  \n",
       "4                     N  "
      ]
     },
     "execution_count": 55,
     "metadata": {},
     "output_type": "execute_result"
    }
   ],
   "source": [
    "# Dump resulting dataframe\n",
    "time_window_df.head(5)"
   ]
  },
  {
   "cell_type": "markdown",
   "metadata": {},
   "source": [
    "#### We can directly view the SQL code produced by the Offline Store SDK\n",
    "\n",
    "Whenever the `to_csv_file` or `to_dataframe` methods are called, a tuple is returned where the second member is the actual SQL query produced by the Offline SDK engine. This SQL code can be reviewed to better understand how the various methods impact the executed query. "
   ]
  },
  {
   "cell_type": "code",
   "execution_count": 56,
   "metadata": {
    "tags": []
   },
   "outputs": [
    {
     "name": "stdout",
     "output_type": "stream",
     "text": [
      "WITH fg_base AS (WITH table_base AS (\n",
      "SELECT *\n",
      "FROM (\n",
      "SELECT *, row_number() OVER (\n",
      "PARTITION BY origin_base.\"Lead_ProspectID\", origin_base.\"Lead_EventTime\"\n",
      "ORDER BY origin_base.\"api_invocation_time\" DESC, origin_base.\"write_time\" DESC\n",
      ") AS dedup_row_base\n",
      "FROM \"sagemaker_featurestore\".\"off_sdk_fg_lead_1681253480\" origin_base\n",
      "WHERE from_iso8601_timestamp(origin_base.\"Lead_EventTime\") >= from_unixtime(1656633600.0)\n",
      "AND from_iso8601_timestamp(origin_base.\"Lead_EventTime\") <= from_unixtime(1656720000.0)\n",
      ")\n",
      "WHERE dedup_row_base = 1\n",
      "),\n",
      "deleted_base AS (\n",
      "SELECT *\n",
      "FROM (\n",
      "SELECT *, row_number() OVER (\n",
      "PARTITION BY origin_base.\"Lead_ProspectID\"\n",
      "ORDER BY origin_base.\"Lead_EventTime\" DESC, origin_base.\"api_invocation_time\" DESC, origin_base.\"write_time\" DESC\n",
      ") AS deleted_row_base\n",
      "FROM \"sagemaker_featurestore\".\"off_sdk_fg_lead_1681253480\" origin_base\n",
      "WHERE is_deleted\n",
      "AND from_iso8601_timestamp(origin_base.\"Lead_EventTime\") >= from_unixtime(1656633600.0)\n",
      "AND from_iso8601_timestamp(origin_base.\"Lead_EventTime\") <= from_unixtime(1656720000.0)\n",
      ")\n",
      "WHERE deleted_row_base = 1\n",
      ")\n",
      "SELECT table_base.\"LeadSource\", table_base.\"JobRole\", table_base.\"ContactNotes\", table_base.\"LeadProfile\", table_base.\"UsedPromo\", table_base.\"Region\", table_base.\"Converted\", table_base.\"Lead_ProspectID\", table_base.\"Lead_EventTime\"\n",
      "FROM (\n",
      "SELECT table_base.\"LeadSource\", table_base.\"JobRole\", table_base.\"ContactNotes\", table_base.\"LeadProfile\", table_base.\"UsedPromo\", table_base.\"Region\", table_base.\"Converted\", table_base.\"Lead_ProspectID\", table_base.\"Lead_EventTime\", table_base.\"write_time\"\n",
      "FROM table_base\n",
      "LEFT JOIN deleted_base\n",
      "ON table_base.\"Lead_ProspectID\" = deleted_base.\"Lead_ProspectID\"\n",
      "WHERE deleted_base.\"Lead_ProspectID\" IS NULL\n",
      "UNION ALL\n",
      "SELECT table_base.\"LeadSource\", table_base.\"JobRole\", table_base.\"ContactNotes\", table_base.\"LeadProfile\", table_base.\"UsedPromo\", table_base.\"Region\", table_base.\"Converted\", table_base.\"Lead_ProspectID\", table_base.\"Lead_EventTime\", table_base.\"write_time\"\n",
      "FROM deleted_base\n",
      "JOIN table_base\n",
      "ON table_base.\"Lead_ProspectID\" = deleted_base.\"Lead_ProspectID\"\n",
      "AND (\n",
      "table_base.\"Lead_EventTime\" > deleted_base.\"Lead_EventTime\"\n",
      "OR (table_base.\"Lead_EventTime\" = deleted_base.\"Lead_EventTime\" AND table_base.\"api_invocation_time\" > deleted_base.\"api_invocation_time\")\n",
      "OR (table_base.\"Lead_EventTime\" = deleted_base.\"Lead_EventTime\" AND table_base.\"api_invocation_time\" = deleted_base.\"api_invocation_time\" AND table_base.\"write_time\" > deleted_base.\"write_time\")\n",
      ")\n",
      ") AS table_base\n",
      "WHERE from_iso8601_timestamp(table_base.\"Lead_EventTime\") >= from_unixtime(1656633600.0)\n",
      "AND from_iso8601_timestamp(table_base.\"Lead_EventTime\") <= from_unixtime(1656720000.0)),\n",
      "fg_0 AS (WITH table_0 AS (\n",
      "SELECT *\n",
      "FROM (\n",
      "SELECT *, row_number() OVER (\n",
      "PARTITION BY origin_0.\"Web_ProspectID\", origin_0.\"Web_EventTime\"\n",
      "ORDER BY origin_0.\"api_invocation_time\" DESC, origin_0.\"write_time\" DESC\n",
      ") AS dedup_row_0\n",
      "FROM \"sagemaker_featurestore\".\"off_sdk_fg_webmarketing_1681253924\" origin_0\n",
      "WHERE from_iso8601_timestamp(origin_0.\"Web_EventTime\") >= from_unixtime(1656633600.0)\n",
      "AND from_iso8601_timestamp(origin_0.\"Web_EventTime\") <= from_unixtime(1656720000.0)\n",
      ")\n",
      "WHERE dedup_row_0 = 1\n",
      "),\n",
      "deleted_0 AS (\n",
      "SELECT *\n",
      "FROM (\n",
      "SELECT *, row_number() OVER (\n",
      "PARTITION BY origin_0.\"Web_ProspectID\"\n",
      "ORDER BY origin_0.\"Web_EventTime\" DESC, origin_0.\"api_invocation_time\" DESC, origin_0.\"write_time\" DESC\n",
      ") AS deleted_row_0\n",
      "FROM \"sagemaker_featurestore\".\"off_sdk_fg_webmarketing_1681253924\" origin_0\n",
      "WHERE is_deleted\n",
      "AND from_iso8601_timestamp(origin_0.\"Web_EventTime\") >= from_unixtime(1656633600.0)\n",
      "AND from_iso8601_timestamp(origin_0.\"Web_EventTime\") <= from_unixtime(1656720000.0)\n",
      ")\n",
      "WHERE deleted_row_0 = 1\n",
      ")\n",
      "SELECT table_0.\"Web_ProspectID\", table_0.\"LastCampaignActivity\", table_0.\"PageViewsPerVisit\", table_0.\"TotalTimeOnWebsite\", table_0.\"TotalWebVisits\", table_0.\"AttendedMarketingEvent\", table_0.\"OrganicSearch\", table_0.\"ViewedAdvertisement\", table_0.\"Web_EventTime\"\n",
      "FROM (\n",
      "SELECT table_0.\"Web_ProspectID\", table_0.\"LastCampaignActivity\", table_0.\"PageViewsPerVisit\", table_0.\"TotalTimeOnWebsite\", table_0.\"TotalWebVisits\", table_0.\"AttendedMarketingEvent\", table_0.\"OrganicSearch\", table_0.\"ViewedAdvertisement\", table_0.\"Web_EventTime\", table_0.\"write_time\"\n",
      "FROM table_0\n",
      "LEFT JOIN deleted_0\n",
      "ON table_0.\"Web_ProspectID\" = deleted_0.\"Web_ProspectID\"\n",
      "WHERE deleted_0.\"Web_ProspectID\" IS NULL\n",
      "UNION ALL\n",
      "SELECT table_0.\"Web_ProspectID\", table_0.\"LastCampaignActivity\", table_0.\"PageViewsPerVisit\", table_0.\"TotalTimeOnWebsite\", table_0.\"TotalWebVisits\", table_0.\"AttendedMarketingEvent\", table_0.\"OrganicSearch\", table_0.\"ViewedAdvertisement\", table_0.\"Web_EventTime\", table_0.\"write_time\"\n",
      "FROM deleted_0\n",
      "JOIN table_0\n",
      "ON table_0.\"Web_ProspectID\" = deleted_0.\"Web_ProspectID\"\n",
      "AND (\n",
      "table_0.\"Web_EventTime\" > deleted_0.\"Web_EventTime\"\n",
      "OR (table_0.\"Web_EventTime\" = deleted_0.\"Web_EventTime\" AND table_0.\"api_invocation_time\" > deleted_0.\"api_invocation_time\")\n",
      "OR (table_0.\"Web_EventTime\" = deleted_0.\"Web_EventTime\" AND table_0.\"api_invocation_time\" = deleted_0.\"api_invocation_time\" AND table_0.\"write_time\" > deleted_0.\"write_time\")\n",
      ")\n",
      ") AS table_0\n",
      "WHERE from_iso8601_timestamp(table_0.\"Web_EventTime\") >= from_unixtime(1656633600.0)\n",
      "AND from_iso8601_timestamp(table_0.\"Web_EventTime\") <= from_unixtime(1656720000.0))\n",
      "SELECT LeadSource, JobRole, ContactNotes, LeadProfile, UsedPromo, Region, Converted, Lead_ProspectID, Lead_EventTime, \"Web_ProspectID.1\", \"LastCampaignActivity.1\", \"PageViewsPerVisit.1\", \"TotalTimeOnWebsite.1\", \"TotalWebVisits.1\", \"AttendedMarketingEvent.1\", \"OrganicSearch.1\", \"ViewedAdvertisement.1\"\n",
      "FROM (\n",
      "SELECT fg_base.LeadSource, fg_base.JobRole, fg_base.ContactNotes, fg_base.LeadProfile, fg_base.UsedPromo, fg_base.Region, fg_base.Converted, fg_base.Lead_ProspectID, fg_base.Lead_EventTime, fg_0.\"Web_ProspectID\" as \"Web_ProspectID.1\", fg_0.\"LastCampaignActivity\" as \"LastCampaignActivity.1\", fg_0.\"PageViewsPerVisit\" as \"PageViewsPerVisit.1\", fg_0.\"TotalTimeOnWebsite\" as \"TotalTimeOnWebsite.1\", fg_0.\"TotalWebVisits\" as \"TotalWebVisits.1\", fg_0.\"AttendedMarketingEvent\" as \"AttendedMarketingEvent.1\", fg_0.\"OrganicSearch\" as \"OrganicSearch.1\", fg_0.\"ViewedAdvertisement\" as \"ViewedAdvertisement.1\", row_number() OVER (\n",
      "PARTITION BY fg_base.\"Lead_ProspectID\"\n",
      "ORDER BY fg_base.\"Lead_EventTime\" DESC, fg_0.\"Web_EventTime\" DESC\n",
      ") AS row_recent\n",
      "FROM fg_base\n",
      "JOIN fg_0\n",
      "ON fg_base.\"Lead_ProspectID\" = fg_0.\"Web_ProspectID\"\n",
      ")\n"
     ]
    }
   ],
   "source": [
    "# Show SQL used to create dataset, using the event_time window constraint \n",
    "print(time_window_query_str)"
   ]
  },
  {
   "cell_type": "markdown",
   "metadata": {},
   "source": [
    "## Create Dataset using as-of Timestamp"
   ]
  },
  {
   "cell_type": "markdown",
   "metadata": {},
   "source": [
    "Next we demonstrate how to build a dataset and perform feature retrieval with the `as_of` method, which takes a single timestamp argument. \n",
    "\n",
    "Please Note: The `as_of` method applies the time constraint to the `write_time` internal field which is automatically generated by the Feature Store service. The `write_time` field represents the actual time the record is written to the datastore (as opposed to the client-provided `event_time`). The `write_time` field, along with other datastore-driven fields, is only retrievable using Athena, so we will construct Athena queries below to validate the results returned by the `as-of` method of the DatasetBuilder."
   ]
  },
  {
   "cell_type": "code",
   "execution_count": 57,
   "metadata": {
    "tags": []
   },
   "outputs": [
    {
     "name": "stdout",
     "output_type": "stream",
     "text": [
      "AthenaQuery(catalog='AwsDataCatalog', database='sagemaker_featurestore', table_name='off_sdk_fg_webmarketing_1681253924', sagemaker_session=<sagemaker.session.Session object at 0x7f06c329d910>, _current_query_execution_id=None, _result_bucket=None, _result_file_prefix=None)\n",
      "off_sdk_fg_webmarketing_1681253924\n"
     ]
    }
   ],
   "source": [
    "# Create Athena Query and retrieve table name\n",
    "webmark_query = target_fg.athena_query()\n",
    "print(webmark_query)\n",
    "\n",
    "webmark_table = webmark_query.table_name\n",
    "print(webmark_table)"
   ]
  },
  {
   "cell_type": "markdown",
   "metadata": {},
   "source": [
    "### We choose a cut-off time from one of our two sample records for index 9999\n",
    "\n",
    "Using an Athena query, we pull all records from the WebMarketing table with a matching record ID (using index 9999). We then sort them according to `write_time` and choose the latest value as the cut-off time for the `as_of` dataset. The latest value will correspond with the extra record written with `put_record` method above. We purposely wrote this record later so its `write_time` value would be different."
   ]
  },
  {
   "cell_type": "code",
   "execution_count": 58,
   "metadata": {
    "tags": []
   },
   "outputs": [
    {
     "name": "stdout",
     "output_type": "stream",
     "text": [
      "SELECT * FROM \"sagemaker_featurestore\".\"off_sdk_fg_webmarketing_1681253924\" WHERE \"off_sdk_fg_webmarketing_1681253924\".\"Web_ProspectID\" = '9749edb2-1b8a-47c2-9810-ad001d9e740f' \n",
      "s3://sagemaker-us-east-1-572539092864/offline-store-sdk-artifacts-bgnhxvyzds/athena_query_results/\n"
     ]
    }
   ],
   "source": [
    "# Define Athena query string and output location\n",
    "webmark_query_recids = f'SELECT * FROM \"sagemaker_featurestore\".\"{webmark_table}\" ' \\\n",
    "               f'WHERE \"{webmark_table}\".\"Web_ProspectID\" = \\'{record_id9999}\\' ' \n",
    "print(webmark_query_recids)\n",
    "\n",
    "output_location = f's3://{s3_bucket_name}/{s3_prefix}/athena_query_results/'\n",
    "print(output_location)"
   ]
  },
  {
   "cell_type": "markdown",
   "metadata": {},
   "source": [
    "### We need to wait for last record to replicate to Offline Store\n",
    "\n",
    "Whenever a record is written to the Online Store (using df.ingest or put_record), it is replicated after a short delay to the Offline storage on S3. Below, we run an Athena query in a loop that waits for the most recent record to arrive in the Offline Store."
   ]
  },
  {
   "cell_type": "code",
   "execution_count": 59,
   "metadata": {
    "tags": []
   },
   "outputs": [
    {
     "name": "stdout",
     "output_type": "stream",
     "text": [
      "num_rows found: 1\n",
      "Waiting for latest record to arrive in offline store...\n",
      "num_rows found: 1\n",
      "Waiting for latest record to arrive in offline store...\n",
      "num_rows found: 1\n",
      "Waiting for latest record to arrive in offline store...\n",
      "num_rows found: 1\n",
      "Waiting for latest record to arrive in offline store...\n",
      "num_rows found: 1\n",
      "Waiting for latest record to arrive in offline store...\n",
      "num_rows found: 2\n"
     ]
    }
   ],
   "source": [
    "# While loop to run Athena query and count number of rows returned\n",
    "\n",
    "num_waits = 0\n",
    "while num_waits < 10:\n",
    "    webmark_query.run(query_string=webmark_query_recids, output_location=output_location)\n",
    "    webmark_query.wait()\n",
    "    athena_web_results_df = webmark_query.as_dataframe()\n",
    "    num_rows, num_cols = athena_web_results_df.shape\n",
    "    print(f'num_rows found: {num_rows}')\n",
    "    if (num_rows > 1):\n",
    "        break   # break out of while loop\n",
    "    print(\"Waiting for latest record to arrive in offline store...\")\n",
    "    time.sleep(60)\n",
    "    num_waits += 1\n"
   ]
  },
  {
   "cell_type": "code",
   "execution_count": 60,
   "metadata": {
    "tags": []
   },
   "outputs": [
    {
     "data": {
      "text/html": [
       "<div>\n",
       "<style scoped>\n",
       "    .dataframe tbody tr th:only-of-type {\n",
       "        vertical-align: middle;\n",
       "    }\n",
       "\n",
       "    .dataframe tbody tr th {\n",
       "        vertical-align: top;\n",
       "    }\n",
       "\n",
       "    .dataframe thead th {\n",
       "        text-align: right;\n",
       "    }\n",
       "</style>\n",
       "<table border=\"1\" class=\"dataframe\">\n",
       "  <thead>\n",
       "    <tr style=\"text-align: right;\">\n",
       "      <th></th>\n",
       "      <th>web_prospectid</th>\n",
       "      <th>lastcampaignactivity</th>\n",
       "      <th>pageviewspervisit</th>\n",
       "      <th>totaltimeonwebsite</th>\n",
       "      <th>totalwebvisits</th>\n",
       "      <th>attendedmarketingevent</th>\n",
       "      <th>organicsearch</th>\n",
       "      <th>viewedadvertisement</th>\n",
       "      <th>web_eventtime</th>\n",
       "      <th>write_time</th>\n",
       "      <th>api_invocation_time</th>\n",
       "      <th>is_deleted</th>\n",
       "    </tr>\n",
       "  </thead>\n",
       "  <tbody>\n",
       "    <tr>\n",
       "      <th>1</th>\n",
       "      <td>9749edb2-1b8a-47c2-9810-ad001d9e740f</td>\n",
       "      <td>Event RSVP</td>\n",
       "      <td>4.446905</td>\n",
       "      <td>121</td>\n",
       "      <td>9999</td>\n",
       "      <td>Attended</td>\n",
       "      <td>Y</td>\n",
       "      <td>N</td>\n",
       "      <td>2023-04-11T23:04:45Z</td>\n",
       "      <td>2023-04-11 23:09:42.046</td>\n",
       "      <td>2023-04-11 23:04:44.000</td>\n",
       "      <td>False</td>\n",
       "    </tr>\n",
       "    <tr>\n",
       "      <th>0</th>\n",
       "      <td>9749edb2-1b8a-47c2-9810-ad001d9e740f</td>\n",
       "      <td>Event RSVP</td>\n",
       "      <td>4.446905</td>\n",
       "      <td>121</td>\n",
       "      <td>12</td>\n",
       "      <td>Attended</td>\n",
       "      <td>Y</td>\n",
       "      <td>N</td>\n",
       "      <td>2022-09-08T09:30:38Z</td>\n",
       "      <td>2023-04-11 23:04:20.039</td>\n",
       "      <td>2023-04-11 22:59:41.000</td>\n",
       "      <td>False</td>\n",
       "    </tr>\n",
       "  </tbody>\n",
       "</table>\n",
       "</div>"
      ],
      "text/plain": [
       "                         web_prospectid lastcampaignactivity  \\\n",
       "1  9749edb2-1b8a-47c2-9810-ad001d9e740f           Event RSVP   \n",
       "0  9749edb2-1b8a-47c2-9810-ad001d9e740f           Event RSVP   \n",
       "\n",
       "   pageviewspervisit  totaltimeonwebsite  totalwebvisits  \\\n",
       "1           4.446905                 121            9999   \n",
       "0           4.446905                 121              12   \n",
       "\n",
       "  attendedmarketingevent organicsearch viewedadvertisement  \\\n",
       "1               Attended             Y                   N   \n",
       "0               Attended             Y                   N   \n",
       "\n",
       "          web_eventtime               write_time      api_invocation_time  \\\n",
       "1  2023-04-11T23:04:45Z  2023-04-11 23:09:42.046  2023-04-11 23:04:44.000   \n",
       "0  2022-09-08T09:30:38Z  2023-04-11 23:04:20.039  2023-04-11 22:59:41.000   \n",
       "\n",
       "   is_deleted  \n",
       "1       False  \n",
       "0       False  "
      ]
     },
     "execution_count": 60,
     "metadata": {},
     "output_type": "execute_result"
    }
   ],
   "source": [
    "# Sort records from Athena query according to `write_time` field (descending)\n",
    "\n",
    "sort_athena_df2 = athena_web_results_df.sort_values(by='write_time', axis=0, ascending=False, inplace=False)\n",
    "sort_athena_df2.head()"
   ]
  },
  {
   "cell_type": "code",
   "execution_count": 61,
   "metadata": {
    "tags": []
   },
   "outputs": [
    {
     "name": "stdout",
     "output_type": "stream",
     "text": [
      "write_time: 2023-04-11 23:09:42.046\n",
      "write_time truncated: 2023-04-11 23:09:42\n",
      "as-of cut-off datetime: 2023-04-11 23:09:42\n"
     ]
    }
   ],
   "source": [
    "# Use first record (with latest datetime) to create the cut-off value \n",
    "webmark_rec = sort_athena_df2.iloc[0]\n",
    "\n",
    "webmark_write_time = webmark_rec['write_time']\n",
    "print(f'write_time: {webmark_write_time}')\n",
    "\n",
    "webmark_write_time_truncated = webmark_write_time[:-4]\n",
    "print(f'write_time truncated: {webmark_write_time_truncated}')\n",
    "\n",
    "datetime_format = \"%Y-%m-%d\" + \" \" + \"%H:%M:%S\" \n",
    "\n",
    "asof_cutoff_datetime = datetime.strptime(webmark_write_time_truncated, datetime_format)\n",
    "print(f'as-of cut-off datetime: {asof_cutoff_datetime}')\n"
   ]
  },
  {
   "cell_type": "code",
   "execution_count": 62,
   "metadata": {
    "tags": []
   },
   "outputs": [
    {
     "name": "stdout",
     "output_type": "stream",
     "text": [
      "using cut-off time: 2023-04-11 23:09:42\n"
     ]
    }
   ],
   "source": [
    "# Create dataset using as-of timestamp\n",
    "print(f'using cut-off time: {asof_cutoff_datetime}')\n",
    "\n",
    "as_of_builder = feature_store.create_dataset(\n",
    "\tbase=base_fg, \n",
    "\toutput_path=f\"s3://{s3_bucket_name}/{s3_prefix}/dataset_query_results\"\n",
    ").with_feature_group(\n",
    "        feature_group=target_fg, \n",
    "        target_feature_name_in_base='Lead_ProspectID', \n",
    "        included_feature_names=['Web_ProspectID', 'Web_EventTime', 'TotalWebVisits']\n",
    ").as_of(asof_cutoff_datetime)\n"
   ]
  },
  {
   "cell_type": "markdown",
   "metadata": {},
   "source": [
    "### Retrieval using the `as_of` method excludes records later than the supplied cut-off time from the result set\n",
    "\n",
    "Our JOIN query for the entire dataset, prior to adding the new record above, resulted in 10,020 records (the intial 10,000 plus our time-series records). We then called `get_record` followed by `put_record` to create an additional modified version of one record (using record index 9999). Applying the `as_of` criteria with a specific cut-off time eliminated the most recent record, the one written with `put_record` method. "
   ]
  },
  {
   "cell_type": "code",
   "execution_count": 63,
   "metadata": {
    "tags": []
   },
   "outputs": [
    {
     "name": "stdout",
     "output_type": "stream",
     "text": [
      "(10020, 12)\n",
      "Index(['LeadSource', 'JobRole', 'ContactNotes', 'LeadProfile', 'UsedPromo',\n",
      "       'Region', 'Converted', 'Lead_ProspectID', 'Lead_EventTime',\n",
      "       'Web_ProspectID.1', 'Web_EventTime.1', 'TotalWebVisits.1'],\n",
      "      dtype='object')\n"
     ]
    }
   ],
   "source": [
    "as_of_df, as_of_query = as_of_builder.to_dataframe()\n",
    "\n",
    "print(as_of_df.shape)\n",
    "print(as_of_df.columns)"
   ]
  },
  {
   "cell_type": "markdown",
   "metadata": {},
   "source": [
    "### Using a Pandas query, we show that the later record is not part of the `as_of` dataframe\n",
    "\n",
    "Here we run a Pandas query on the `as_of_df` dataframe with a query condition that matches the given record ID. The Pandas query only returns one record, the one corresponding to the earlier timestamp (the record with later `write_time` was excluded)."
   ]
  },
  {
   "cell_type": "code",
   "execution_count": 64,
   "metadata": {
    "tags": []
   },
   "outputs": [
    {
     "name": "stdout",
     "output_type": "stream",
     "text": [
      "`Web_ProspectID.1` == '9749edb2-1b8a-47c2-9810-ad001d9e740f'\n",
      "(1, 12)\n"
     ]
    },
    {
     "data": {
      "text/html": [
       "<div>\n",
       "<style scoped>\n",
       "    .dataframe tbody tr th:only-of-type {\n",
       "        vertical-align: middle;\n",
       "    }\n",
       "\n",
       "    .dataframe tbody tr th {\n",
       "        vertical-align: top;\n",
       "    }\n",
       "\n",
       "    .dataframe thead th {\n",
       "        text-align: right;\n",
       "    }\n",
       "</style>\n",
       "<table border=\"1\" class=\"dataframe\">\n",
       "  <thead>\n",
       "    <tr style=\"text-align: right;\">\n",
       "      <th></th>\n",
       "      <th>LeadSource</th>\n",
       "      <th>JobRole</th>\n",
       "      <th>ContactNotes</th>\n",
       "      <th>LeadProfile</th>\n",
       "      <th>UsedPromo</th>\n",
       "      <th>Region</th>\n",
       "      <th>Converted</th>\n",
       "      <th>Lead_ProspectID</th>\n",
       "      <th>Lead_EventTime</th>\n",
       "      <th>Web_ProspectID.1</th>\n",
       "      <th>Web_EventTime.1</th>\n",
       "      <th>TotalWebVisits.1</th>\n",
       "    </tr>\n",
       "  </thead>\n",
       "  <tbody>\n",
       "    <tr>\n",
       "      <th>4279</th>\n",
       "      <td>Digital Ad</td>\n",
       "      <td>Finance</td>\n",
       "      <td>FeatureRequest</td>\n",
       "      <td>Medium</td>\n",
       "      <td>UsedPromo</td>\n",
       "      <td>APAC</td>\n",
       "      <td>0</td>\n",
       "      <td>9749edb2-1b8a-47c2-9810-ad001d9e740f</td>\n",
       "      <td>2022-09-08T09:30:38Z</td>\n",
       "      <td>9749edb2-1b8a-47c2-9810-ad001d9e740f</td>\n",
       "      <td>2022-09-08T09:30:38Z</td>\n",
       "      <td>12</td>\n",
       "    </tr>\n",
       "  </tbody>\n",
       "</table>\n",
       "</div>"
      ],
      "text/plain": [
       "      LeadSource  JobRole    ContactNotes LeadProfile  UsedPromo Region  \\\n",
       "4279  Digital Ad  Finance  FeatureRequest      Medium  UsedPromo   APAC   \n",
       "\n",
       "      Converted                       Lead_ProspectID        Lead_EventTime  \\\n",
       "4279          0  9749edb2-1b8a-47c2-9810-ad001d9e740f  2022-09-08T09:30:38Z   \n",
       "\n",
       "                          Web_ProspectID.1       Web_EventTime.1  \\\n",
       "4279  9749edb2-1b8a-47c2-9810-ad001d9e740f  2022-09-08T09:30:38Z   \n",
       "\n",
       "      TotalWebVisits.1  \n",
       "4279                12  "
      ]
     },
     "execution_count": 64,
     "metadata": {},
     "output_type": "execute_result"
    }
   ],
   "source": [
    "# Query condition using record index 9999\n",
    "\n",
    "condition_id = f\"`Web_ProspectID.1` == '{record_id9999}'\"\n",
    "print(condition_id)\n",
    "\n",
    "subset_asof_df = as_of_df.query(condition_id, inplace=False)\n",
    "print(subset_asof_df.shape)\n",
    "\n",
    "subset_asof_df.head()"
   ]
  },
  {
   "cell_type": "markdown",
   "metadata": {},
   "source": [
    "## Clean Up\n",
    "\n",
    "The cell below will cleanup resources created by this notebook, including the Feature Groups and (optionally) the S3 bucket."
   ]
  },
  {
   "cell_type": "code",
   "execution_count": null,
   "metadata": {
    "tags": []
   },
   "outputs": [],
   "source": [
    "# delete feature groups created by this notebook\n",
    "\n",
    "# Uncomment and run these lines of code to delete the feature groups\n",
    "#base_fg.delete()\n",
    "#target_fg.delete()"
   ]
  },
  {
   "cell_type": "code",
   "execution_count": null,
   "metadata": {},
   "outputs": [],
   "source": []
  }
 ],
 "metadata": {
  "availableInstances": [
   {
    "_defaultOrder": 0,
    "_isFastLaunch": true,
    "category": "General purpose",
    "gpuNum": 0,
    "hideHardwareSpecs": false,
    "memoryGiB": 4,
    "name": "ml.t3.medium",
    "vcpuNum": 2
   },
   {
    "_defaultOrder": 1,
    "_isFastLaunch": false,
    "category": "General purpose",
    "gpuNum": 0,
    "hideHardwareSpecs": false,
    "memoryGiB": 8,
    "name": "ml.t3.large",
    "vcpuNum": 2
   },
   {
    "_defaultOrder": 2,
    "_isFastLaunch": false,
    "category": "General purpose",
    "gpuNum": 0,
    "hideHardwareSpecs": false,
    "memoryGiB": 16,
    "name": "ml.t3.xlarge",
    "vcpuNum": 4
   },
   {
    "_defaultOrder": 3,
    "_isFastLaunch": false,
    "category": "General purpose",
    "gpuNum": 0,
    "hideHardwareSpecs": false,
    "memoryGiB": 32,
    "name": "ml.t3.2xlarge",
    "vcpuNum": 8
   },
   {
    "_defaultOrder": 4,
    "_isFastLaunch": true,
    "category": "General purpose",
    "gpuNum": 0,
    "hideHardwareSpecs": false,
    "memoryGiB": 8,
    "name": "ml.m5.large",
    "vcpuNum": 2
   },
   {
    "_defaultOrder": 5,
    "_isFastLaunch": false,
    "category": "General purpose",
    "gpuNum": 0,
    "hideHardwareSpecs": false,
    "memoryGiB": 16,
    "name": "ml.m5.xlarge",
    "vcpuNum": 4
   },
   {
    "_defaultOrder": 6,
    "_isFastLaunch": false,
    "category": "General purpose",
    "gpuNum": 0,
    "hideHardwareSpecs": false,
    "memoryGiB": 32,
    "name": "ml.m5.2xlarge",
    "vcpuNum": 8
   },
   {
    "_defaultOrder": 7,
    "_isFastLaunch": false,
    "category": "General purpose",
    "gpuNum": 0,
    "hideHardwareSpecs": false,
    "memoryGiB": 64,
    "name": "ml.m5.4xlarge",
    "vcpuNum": 16
   },
   {
    "_defaultOrder": 8,
    "_isFastLaunch": false,
    "category": "General purpose",
    "gpuNum": 0,
    "hideHardwareSpecs": false,
    "memoryGiB": 128,
    "name": "ml.m5.8xlarge",
    "vcpuNum": 32
   },
   {
    "_defaultOrder": 9,
    "_isFastLaunch": false,
    "category": "General purpose",
    "gpuNum": 0,
    "hideHardwareSpecs": false,
    "memoryGiB": 192,
    "name": "ml.m5.12xlarge",
    "vcpuNum": 48
   },
   {
    "_defaultOrder": 10,
    "_isFastLaunch": false,
    "category": "General purpose",
    "gpuNum": 0,
    "hideHardwareSpecs": false,
    "memoryGiB": 256,
    "name": "ml.m5.16xlarge",
    "vcpuNum": 64
   },
   {
    "_defaultOrder": 11,
    "_isFastLaunch": false,
    "category": "General purpose",
    "gpuNum": 0,
    "hideHardwareSpecs": false,
    "memoryGiB": 384,
    "name": "ml.m5.24xlarge",
    "vcpuNum": 96
   },
   {
    "_defaultOrder": 12,
    "_isFastLaunch": false,
    "category": "General purpose",
    "gpuNum": 0,
    "hideHardwareSpecs": false,
    "memoryGiB": 8,
    "name": "ml.m5d.large",
    "vcpuNum": 2
   },
   {
    "_defaultOrder": 13,
    "_isFastLaunch": false,
    "category": "General purpose",
    "gpuNum": 0,
    "hideHardwareSpecs": false,
    "memoryGiB": 16,
    "name": "ml.m5d.xlarge",
    "vcpuNum": 4
   },
   {
    "_defaultOrder": 14,
    "_isFastLaunch": false,
    "category": "General purpose",
    "gpuNum": 0,
    "hideHardwareSpecs": false,
    "memoryGiB": 32,
    "name": "ml.m5d.2xlarge",
    "vcpuNum": 8
   },
   {
    "_defaultOrder": 15,
    "_isFastLaunch": false,
    "category": "General purpose",
    "gpuNum": 0,
    "hideHardwareSpecs": false,
    "memoryGiB": 64,
    "name": "ml.m5d.4xlarge",
    "vcpuNum": 16
   },
   {
    "_defaultOrder": 16,
    "_isFastLaunch": false,
    "category": "General purpose",
    "gpuNum": 0,
    "hideHardwareSpecs": false,
    "memoryGiB": 128,
    "name": "ml.m5d.8xlarge",
    "vcpuNum": 32
   },
   {
    "_defaultOrder": 17,
    "_isFastLaunch": false,
    "category": "General purpose",
    "gpuNum": 0,
    "hideHardwareSpecs": false,
    "memoryGiB": 192,
    "name": "ml.m5d.12xlarge",
    "vcpuNum": 48
   },
   {
    "_defaultOrder": 18,
    "_isFastLaunch": false,
    "category": "General purpose",
    "gpuNum": 0,
    "hideHardwareSpecs": false,
    "memoryGiB": 256,
    "name": "ml.m5d.16xlarge",
    "vcpuNum": 64
   },
   {
    "_defaultOrder": 19,
    "_isFastLaunch": false,
    "category": "General purpose",
    "gpuNum": 0,
    "hideHardwareSpecs": false,
    "memoryGiB": 384,
    "name": "ml.m5d.24xlarge",
    "vcpuNum": 96
   },
   {
    "_defaultOrder": 20,
    "_isFastLaunch": false,
    "category": "General purpose",
    "gpuNum": 0,
    "hideHardwareSpecs": true,
    "memoryGiB": 0,
    "name": "ml.geospatial.interactive",
    "supportedImageNames": [
     "sagemaker-geospatial-v1-0"
    ],
    "vcpuNum": 0
   },
   {
    "_defaultOrder": 21,
    "_isFastLaunch": true,
    "category": "Compute optimized",
    "gpuNum": 0,
    "hideHardwareSpecs": false,
    "memoryGiB": 4,
    "name": "ml.c5.large",
    "vcpuNum": 2
   },
   {
    "_defaultOrder": 22,
    "_isFastLaunch": false,
    "category": "Compute optimized",
    "gpuNum": 0,
    "hideHardwareSpecs": false,
    "memoryGiB": 8,
    "name": "ml.c5.xlarge",
    "vcpuNum": 4
   },
   {
    "_defaultOrder": 23,
    "_isFastLaunch": false,
    "category": "Compute optimized",
    "gpuNum": 0,
    "hideHardwareSpecs": false,
    "memoryGiB": 16,
    "name": "ml.c5.2xlarge",
    "vcpuNum": 8
   },
   {
    "_defaultOrder": 24,
    "_isFastLaunch": false,
    "category": "Compute optimized",
    "gpuNum": 0,
    "hideHardwareSpecs": false,
    "memoryGiB": 32,
    "name": "ml.c5.4xlarge",
    "vcpuNum": 16
   },
   {
    "_defaultOrder": 25,
    "_isFastLaunch": false,
    "category": "Compute optimized",
    "gpuNum": 0,
    "hideHardwareSpecs": false,
    "memoryGiB": 72,
    "name": "ml.c5.9xlarge",
    "vcpuNum": 36
   },
   {
    "_defaultOrder": 26,
    "_isFastLaunch": false,
    "category": "Compute optimized",
    "gpuNum": 0,
    "hideHardwareSpecs": false,
    "memoryGiB": 96,
    "name": "ml.c5.12xlarge",
    "vcpuNum": 48
   },
   {
    "_defaultOrder": 27,
    "_isFastLaunch": false,
    "category": "Compute optimized",
    "gpuNum": 0,
    "hideHardwareSpecs": false,
    "memoryGiB": 144,
    "name": "ml.c5.18xlarge",
    "vcpuNum": 72
   },
   {
    "_defaultOrder": 28,
    "_isFastLaunch": false,
    "category": "Compute optimized",
    "gpuNum": 0,
    "hideHardwareSpecs": false,
    "memoryGiB": 192,
    "name": "ml.c5.24xlarge",
    "vcpuNum": 96
   },
   {
    "_defaultOrder": 29,
    "_isFastLaunch": true,
    "category": "Accelerated computing",
    "gpuNum": 1,
    "hideHardwareSpecs": false,
    "memoryGiB": 16,
    "name": "ml.g4dn.xlarge",
    "vcpuNum": 4
   },
   {
    "_defaultOrder": 30,
    "_isFastLaunch": false,
    "category": "Accelerated computing",
    "gpuNum": 1,
    "hideHardwareSpecs": false,
    "memoryGiB": 32,
    "name": "ml.g4dn.2xlarge",
    "vcpuNum": 8
   },
   {
    "_defaultOrder": 31,
    "_isFastLaunch": false,
    "category": "Accelerated computing",
    "gpuNum": 1,
    "hideHardwareSpecs": false,
    "memoryGiB": 64,
    "name": "ml.g4dn.4xlarge",
    "vcpuNum": 16
   },
   {
    "_defaultOrder": 32,
    "_isFastLaunch": false,
    "category": "Accelerated computing",
    "gpuNum": 1,
    "hideHardwareSpecs": false,
    "memoryGiB": 128,
    "name": "ml.g4dn.8xlarge",
    "vcpuNum": 32
   },
   {
    "_defaultOrder": 33,
    "_isFastLaunch": false,
    "category": "Accelerated computing",
    "gpuNum": 4,
    "hideHardwareSpecs": false,
    "memoryGiB": 192,
    "name": "ml.g4dn.12xlarge",
    "vcpuNum": 48
   },
   {
    "_defaultOrder": 34,
    "_isFastLaunch": false,
    "category": "Accelerated computing",
    "gpuNum": 1,
    "hideHardwareSpecs": false,
    "memoryGiB": 256,
    "name": "ml.g4dn.16xlarge",
    "vcpuNum": 64
   },
   {
    "_defaultOrder": 35,
    "_isFastLaunch": false,
    "category": "Accelerated computing",
    "gpuNum": 1,
    "hideHardwareSpecs": false,
    "memoryGiB": 61,
    "name": "ml.p3.2xlarge",
    "vcpuNum": 8
   },
   {
    "_defaultOrder": 36,
    "_isFastLaunch": false,
    "category": "Accelerated computing",
    "gpuNum": 4,
    "hideHardwareSpecs": false,
    "memoryGiB": 244,
    "name": "ml.p3.8xlarge",
    "vcpuNum": 32
   },
   {
    "_defaultOrder": 37,
    "_isFastLaunch": false,
    "category": "Accelerated computing",
    "gpuNum": 8,
    "hideHardwareSpecs": false,
    "memoryGiB": 488,
    "name": "ml.p3.16xlarge",
    "vcpuNum": 64
   },
   {
    "_defaultOrder": 38,
    "_isFastLaunch": false,
    "category": "Accelerated computing",
    "gpuNum": 8,
    "hideHardwareSpecs": false,
    "memoryGiB": 768,
    "name": "ml.p3dn.24xlarge",
    "vcpuNum": 96
   },
   {
    "_defaultOrder": 39,
    "_isFastLaunch": false,
    "category": "Memory Optimized",
    "gpuNum": 0,
    "hideHardwareSpecs": false,
    "memoryGiB": 16,
    "name": "ml.r5.large",
    "vcpuNum": 2
   },
   {
    "_defaultOrder": 40,
    "_isFastLaunch": false,
    "category": "Memory Optimized",
    "gpuNum": 0,
    "hideHardwareSpecs": false,
    "memoryGiB": 32,
    "name": "ml.r5.xlarge",
    "vcpuNum": 4
   },
   {
    "_defaultOrder": 41,
    "_isFastLaunch": false,
    "category": "Memory Optimized",
    "gpuNum": 0,
    "hideHardwareSpecs": false,
    "memoryGiB": 64,
    "name": "ml.r5.2xlarge",
    "vcpuNum": 8
   },
   {
    "_defaultOrder": 42,
    "_isFastLaunch": false,
    "category": "Memory Optimized",
    "gpuNum": 0,
    "hideHardwareSpecs": false,
    "memoryGiB": 128,
    "name": "ml.r5.4xlarge",
    "vcpuNum": 16
   },
   {
    "_defaultOrder": 43,
    "_isFastLaunch": false,
    "category": "Memory Optimized",
    "gpuNum": 0,
    "hideHardwareSpecs": false,
    "memoryGiB": 256,
    "name": "ml.r5.8xlarge",
    "vcpuNum": 32
   },
   {
    "_defaultOrder": 44,
    "_isFastLaunch": false,
    "category": "Memory Optimized",
    "gpuNum": 0,
    "hideHardwareSpecs": false,
    "memoryGiB": 384,
    "name": "ml.r5.12xlarge",
    "vcpuNum": 48
   },
   {
    "_defaultOrder": 45,
    "_isFastLaunch": false,
    "category": "Memory Optimized",
    "gpuNum": 0,
    "hideHardwareSpecs": false,
    "memoryGiB": 512,
    "name": "ml.r5.16xlarge",
    "vcpuNum": 64
   },
   {
    "_defaultOrder": 46,
    "_isFastLaunch": false,
    "category": "Memory Optimized",
    "gpuNum": 0,
    "hideHardwareSpecs": false,
    "memoryGiB": 768,
    "name": "ml.r5.24xlarge",
    "vcpuNum": 96
   },
   {
    "_defaultOrder": 47,
    "_isFastLaunch": false,
    "category": "Accelerated computing",
    "gpuNum": 1,
    "hideHardwareSpecs": false,
    "memoryGiB": 16,
    "name": "ml.g5.xlarge",
    "vcpuNum": 4
   },
   {
    "_defaultOrder": 48,
    "_isFastLaunch": false,
    "category": "Accelerated computing",
    "gpuNum": 1,
    "hideHardwareSpecs": false,
    "memoryGiB": 32,
    "name": "ml.g5.2xlarge",
    "vcpuNum": 8
   },
   {
    "_defaultOrder": 49,
    "_isFastLaunch": false,
    "category": "Accelerated computing",
    "gpuNum": 1,
    "hideHardwareSpecs": false,
    "memoryGiB": 64,
    "name": "ml.g5.4xlarge",
    "vcpuNum": 16
   },
   {
    "_defaultOrder": 50,
    "_isFastLaunch": false,
    "category": "Accelerated computing",
    "gpuNum": 1,
    "hideHardwareSpecs": false,
    "memoryGiB": 128,
    "name": "ml.g5.8xlarge",
    "vcpuNum": 32
   },
   {
    "_defaultOrder": 51,
    "_isFastLaunch": false,
    "category": "Accelerated computing",
    "gpuNum": 1,
    "hideHardwareSpecs": false,
    "memoryGiB": 256,
    "name": "ml.g5.16xlarge",
    "vcpuNum": 64
   },
   {
    "_defaultOrder": 52,
    "_isFastLaunch": false,
    "category": "Accelerated computing",
    "gpuNum": 4,
    "hideHardwareSpecs": false,
    "memoryGiB": 192,
    "name": "ml.g5.12xlarge",
    "vcpuNum": 48
   },
   {
    "_defaultOrder": 53,
    "_isFastLaunch": false,
    "category": "Accelerated computing",
    "gpuNum": 4,
    "hideHardwareSpecs": false,
    "memoryGiB": 384,
    "name": "ml.g5.24xlarge",
    "vcpuNum": 96
   },
   {
    "_defaultOrder": 54,
    "_isFastLaunch": false,
    "category": "Accelerated computing",
    "gpuNum": 8,
    "hideHardwareSpecs": false,
    "memoryGiB": 768,
    "name": "ml.g5.48xlarge",
    "vcpuNum": 192
   }
  ],
  "celltoolbar": "Tags",
  "instance_type": "ml.m5.large",
  "kernelspec": {
   "display_name": "Python 3 (Data Science)",
   "language": "python",
   "name": "python3__SAGEMAKER_INTERNAL__arn:aws:sagemaker:us-east-1:081325390199:image/datascience-1.0"
  },
  "language_info": {
   "codemirror_mode": {
    "name": "ipython",
    "version": 3
   },
   "file_extension": ".py",
   "mimetype": "text/x-python",
   "name": "python",
   "nbconvert_exporter": "python",
   "pygments_lexer": "ipython3",
   "version": "3.7.10"
  },
  "notice": "Copyright 2017 Amazon.com, Inc. or its affiliates. All Rights Reserved.  Licensed under the Apache License, Version 2.0 (the \"License\"). You may not use this file except in compliance with the License. A copy of the License is located at http://aws.amazon.com/apache2.0/ or in the \"license\" file accompanying this file. This file is distributed on an \"AS IS\" BASIS, WITHOUT WARRANTIES OR CONDITIONS OF ANY KIND, either express or implied. See the License for the specific language governing permissions and limitations under the License."
 },
 "nbformat": 4,
 "nbformat_minor": 4
}
